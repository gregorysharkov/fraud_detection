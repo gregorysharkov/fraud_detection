{
 "cells": [
  {
   "cell_type": "code",
   "execution_count": 1,
   "id": "332f4f2d-543f-41df-8cf0-85f9d364ff84",
   "metadata": {},
   "outputs": [
    {
     "data": {
      "text/html": [
       "<pre style=\"white-space:pre;overflow-x:auto;line-height:normal;font-family:Menlo,'DejaVu Sans Mono',consolas,'Courier New',monospace\"><span style=\"color: #7fbfbf; text-decoration-color: #7fbfbf\">[08/14/24 20:16:30] </span><span style=\"color: #000080; text-decoration-color: #000080\">INFO    </span> Resolved project path as: <span style=\"color: #800080; text-decoration-color: #800080\">/Users/sharkovgrigory/code/</span><span style=\"color: #ff00ff; text-decoration-color: #ff00ff\">fraud_detection.</span>  <a href=\"file:///opt/miniconda3/envs/fraud_detection/lib/python3.11/site-packages/kedro/ipython/__init__.py\" target=\"_blank\"><span style=\"color: #7f7f7f; text-decoration-color: #7f7f7f\">__init__.py</span></a><span style=\"color: #7f7f7f; text-decoration-color: #7f7f7f\">:</span><a href=\"file:///opt/miniconda3/envs/fraud_detection/lib/python3.11/site-packages/kedro/ipython/__init__.py#171\" target=\"_blank\"><span style=\"color: #7f7f7f; text-decoration-color: #7f7f7f\">171</span></a>\n",
       "<span style=\"color: #7fbfbf; text-decoration-color: #7fbfbf\">                    </span>         To set a different path, run <span style=\"color: #008000; text-decoration-color: #008000\">'%reload_kedro &lt;project_root&gt;'</span>            <span style=\"color: #7f7f7f; text-decoration-color: #7f7f7f\">               </span>\n",
       "</pre>\n"
      ],
      "text/plain": [
       "\u001b[2;36m[08/14/24 20:16:30]\u001b[0m\u001b[2;36m \u001b[0m\u001b[34mINFO    \u001b[0m Resolved project path as: \u001b[35m/Users/sharkovgrigory/code/\u001b[0m\u001b[95mfraud_detection.\u001b[0m  \u001b]8;id=541253;file:///opt/miniconda3/envs/fraud_detection/lib/python3.11/site-packages/kedro/ipython/__init__.py\u001b\\\u001b[2m__init__.py\u001b[0m\u001b]8;;\u001b\\\u001b[2m:\u001b[0m\u001b]8;id=259781;file:///opt/miniconda3/envs/fraud_detection/lib/python3.11/site-packages/kedro/ipython/__init__.py#171\u001b\\\u001b[2m171\u001b[0m\u001b]8;;\u001b\\\n",
       "\u001b[2;36m                    \u001b[0m         To set a different path, run \u001b[32m'%reload_kedro \u001b[0m\u001b[32m<\u001b[0m\u001b[32mproject_root\u001b[0m\u001b[32m>\u001b[0m\u001b[32m'\u001b[0m            \u001b[2m               \u001b[0m\n"
      ]
     },
     "metadata": {},
     "output_type": "display_data"
    },
    {
     "data": {
      "text/html": [
       "<pre style=\"white-space:pre;overflow-x:auto;line-height:normal;font-family:Menlo,'DejaVu Sans Mono',consolas,'Courier New',monospace\"><span style=\"color: #7fbfbf; text-decoration-color: #7fbfbf\">                    </span><span style=\"color: #000080; text-decoration-color: #000080\">INFO    </span> Registering new custom resolver: <span style=\"color: #008000; text-decoration-color: #008000\">'km.random_name'</span>                    <a href=\"file:///opt/miniconda3/envs/fraud_detection/lib/python3.11/site-packages/kedro_mlflow/framework/hooks/mlflow_hook.py\" target=\"_blank\"><span style=\"color: #7f7f7f; text-decoration-color: #7f7f7f\">mlflow_hook.py</span></a><span style=\"color: #7f7f7f; text-decoration-color: #7f7f7f\">:</span><a href=\"file:///opt/miniconda3/envs/fraud_detection/lib/python3.11/site-packages/kedro_mlflow/framework/hooks/mlflow_hook.py#65\" target=\"_blank\"><span style=\"color: #7f7f7f; text-decoration-color: #7f7f7f\">65</span></a>\n",
       "</pre>\n"
      ],
      "text/plain": [
       "\u001b[2;36m                   \u001b[0m\u001b[2;36m \u001b[0m\u001b[34mINFO    \u001b[0m Registering new custom resolver: \u001b[32m'km.random_name'\u001b[0m                    \u001b]8;id=388359;file:///opt/miniconda3/envs/fraud_detection/lib/python3.11/site-packages/kedro_mlflow/framework/hooks/mlflow_hook.py\u001b\\\u001b[2mmlflow_hook.py\u001b[0m\u001b]8;;\u001b\\\u001b[2m:\u001b[0m\u001b]8;id=160425;file:///opt/miniconda3/envs/fraud_detection/lib/python3.11/site-packages/kedro_mlflow/framework/hooks/mlflow_hook.py#65\u001b\\\u001b[2m65\u001b[0m\u001b]8;;\u001b\\\n"
      ]
     },
     "metadata": {},
     "output_type": "display_data"
    },
    {
     "data": {
      "text/html": [
       "<pre style=\"white-space:pre;overflow-x:auto;line-height:normal;font-family:Menlo,'DejaVu Sans Mono',consolas,'Courier New',monospace\"><span style=\"color: #7fbfbf; text-decoration-color: #7fbfbf\">                    </span><span style=\"color: #800000; text-decoration-color: #800000\">WARNING </span> No <span style=\"color: #008000; text-decoration-color: #008000\">'mlflow.yml'</span> config file found in environment. Default            <a href=\"file:///opt/miniconda3/envs/fraud_detection/lib/python3.11/site-packages/kedro_mlflow/framework/hooks/mlflow_hook.py\" target=\"_blank\"><span style=\"color: #7f7f7f; text-decoration-color: #7f7f7f\">mlflow_hook.py</span></a><span style=\"color: #7f7f7f; text-decoration-color: #7f7f7f\">:</span><a href=\"file:///opt/miniconda3/envs/fraud_detection/lib/python3.11/site-packages/kedro_mlflow/framework/hooks/mlflow_hook.py#78\" target=\"_blank\"><span style=\"color: #7f7f7f; text-decoration-color: #7f7f7f\">78</span></a>\n",
       "<span style=\"color: #7fbfbf; text-decoration-color: #7fbfbf\">                    </span>         configuration will be used. Use ``kedro mlflow init`` command in CLI <span style=\"color: #7f7f7f; text-decoration-color: #7f7f7f\">                 </span>\n",
       "<span style=\"color: #7fbfbf; text-decoration-color: #7fbfbf\">                    </span>         to customize the configuration.                                      <span style=\"color: #7f7f7f; text-decoration-color: #7f7f7f\">                 </span>\n",
       "</pre>\n"
      ],
      "text/plain": [
       "\u001b[2;36m                   \u001b[0m\u001b[2;36m \u001b[0m\u001b[31mWARNING \u001b[0m No \u001b[32m'mlflow.yml'\u001b[0m config file found in environment. Default            \u001b]8;id=567185;file:///opt/miniconda3/envs/fraud_detection/lib/python3.11/site-packages/kedro_mlflow/framework/hooks/mlflow_hook.py\u001b\\\u001b[2mmlflow_hook.py\u001b[0m\u001b]8;;\u001b\\\u001b[2m:\u001b[0m\u001b]8;id=294756;file:///opt/miniconda3/envs/fraud_detection/lib/python3.11/site-packages/kedro_mlflow/framework/hooks/mlflow_hook.py#78\u001b\\\u001b[2m78\u001b[0m\u001b]8;;\u001b\\\n",
       "\u001b[2;36m                    \u001b[0m         configuration will be used. Use ``kedro mlflow init`` command in CLI \u001b[2m                 \u001b[0m\n",
       "\u001b[2;36m                    \u001b[0m         to customize the configuration.                                      \u001b[2m                 \u001b[0m\n"
      ]
     },
     "metadata": {},
     "output_type": "display_data"
    },
    {
     "data": {
      "text/html": [
       "<pre style=\"white-space:pre;overflow-x:auto;line-height:normal;font-family:Menlo,'DejaVu Sans Mono',consolas,'Courier New',monospace\"><span style=\"color: #7fbfbf; text-decoration-color: #7fbfbf\">                    </span><span style=\"color: #000080; text-decoration-color: #000080\">INFO    </span> The <span style=\"color: #008000; text-decoration-color: #008000\">'tracking_uri'</span> key in mlflow.yml is relative            <a href=\"file:///opt/miniconda3/envs/fraud_detection/lib/python3.11/site-packages/kedro_mlflow/config/kedro_mlflow_config.py\" target=\"_blank\"><span style=\"color: #7f7f7f; text-decoration-color: #7f7f7f\">kedro_mlflow_config.py</span></a><span style=\"color: #7f7f7f; text-decoration-color: #7f7f7f\">:</span><a href=\"file:///opt/miniconda3/envs/fraud_detection/lib/python3.11/site-packages/kedro_mlflow/config/kedro_mlflow_config.py#260\" target=\"_blank\"><span style=\"color: #7f7f7f; text-decoration-color: #7f7f7f\">260</span></a>\n",
       "<span style=\"color: #7fbfbf; text-decoration-color: #7fbfbf\">                    </span>         <span style=\"font-weight: bold\">(</span><span style=\"color: #008000; text-decoration-color: #008000\">'server.mlflow_(tracking|registry)_uri = mlruns'</span><span style=\"font-weight: bold\">)</span>. It is   <span style=\"color: #7f7f7f; text-decoration-color: #7f7f7f\">                          </span>\n",
       "<span style=\"color: #7fbfbf; text-decoration-color: #7fbfbf\">                    </span>         converted to a valid uri:                                   <span style=\"color: #7f7f7f; text-decoration-color: #7f7f7f\">                          </span>\n",
       "<span style=\"color: #7fbfbf; text-decoration-color: #7fbfbf\">                    </span>         <span style=\"color: #008000; text-decoration-color: #008000\">'file:///Users/sharkovgrigory/code/fraud_detection/mlruns'</span>  <span style=\"color: #7f7f7f; text-decoration-color: #7f7f7f\">                          </span>\n",
       "</pre>\n"
      ],
      "text/plain": [
       "\u001b[2;36m                   \u001b[0m\u001b[2;36m \u001b[0m\u001b[34mINFO    \u001b[0m The \u001b[32m'tracking_uri'\u001b[0m key in mlflow.yml is relative            \u001b]8;id=2866;file:///opt/miniconda3/envs/fraud_detection/lib/python3.11/site-packages/kedro_mlflow/config/kedro_mlflow_config.py\u001b\\\u001b[2mkedro_mlflow_config.py\u001b[0m\u001b]8;;\u001b\\\u001b[2m:\u001b[0m\u001b]8;id=320340;file:///opt/miniconda3/envs/fraud_detection/lib/python3.11/site-packages/kedro_mlflow/config/kedro_mlflow_config.py#260\u001b\\\u001b[2m260\u001b[0m\u001b]8;;\u001b\\\n",
       "\u001b[2;36m                    \u001b[0m         \u001b[1m(\u001b[0m\u001b[32m'server.mlflow_\u001b[0m\u001b[32m(\u001b[0m\u001b[32mtracking|registry\u001b[0m\u001b[32m)\u001b[0m\u001b[32m_uri = mlruns'\u001b[0m\u001b[1m)\u001b[0m. It is   \u001b[2m                          \u001b[0m\n",
       "\u001b[2;36m                    \u001b[0m         converted to a valid uri:                                   \u001b[2m                          \u001b[0m\n",
       "\u001b[2;36m                    \u001b[0m         \u001b[32m'file:///Users/sharkovgrigory/code/fraud_detection/mlruns'\u001b[0m  \u001b[2m                          \u001b[0m\n"
      ]
     },
     "metadata": {},
     "output_type": "display_data"
    },
    {
     "data": {
      "text/html": [
       "<pre style=\"white-space:pre;overflow-x:auto;line-height:normal;font-family:Menlo,'DejaVu Sans Mono',consolas,'Courier New',monospace\"><span style=\"color: #7fbfbf; text-decoration-color: #7fbfbf\">                    </span><span style=\"color: #000080; text-decoration-color: #000080\">INFO    </span> Kedro is sending anonymous usage data with the sole purpose of improving <a href=\"file:///opt/miniconda3/envs/fraud_detection/lib/python3.11/site-packages/kedro_telemetry/plugin.py\" target=\"_blank\"><span style=\"color: #7f7f7f; text-decoration-color: #7f7f7f\">plugin.py</span></a><span style=\"color: #7f7f7f; text-decoration-color: #7f7f7f\">:</span><a href=\"file:///opt/miniconda3/envs/fraud_detection/lib/python3.11/site-packages/kedro_telemetry/plugin.py#233\" target=\"_blank\"><span style=\"color: #7f7f7f; text-decoration-color: #7f7f7f\">233</span></a>\n",
       "<span style=\"color: #7fbfbf; text-decoration-color: #7fbfbf\">                    </span>         the product. No personal data or IP addresses are stored on our side. If <span style=\"color: #7f7f7f; text-decoration-color: #7f7f7f\">             </span>\n",
       "<span style=\"color: #7fbfbf; text-decoration-color: #7fbfbf\">                    </span>         you want to opt out, set the `KEDRO_DISABLE_TELEMETRY` or `DO_NOT_TRACK` <span style=\"color: #7f7f7f; text-decoration-color: #7f7f7f\">             </span>\n",
       "<span style=\"color: #7fbfbf; text-decoration-color: #7fbfbf\">                    </span>         environment variables, or create a `.telemetry` file in the current      <span style=\"color: #7f7f7f; text-decoration-color: #7f7f7f\">             </span>\n",
       "<span style=\"color: #7fbfbf; text-decoration-color: #7fbfbf\">                    </span>         working directory with the contents `consent: false`. Read more at       <span style=\"color: #7f7f7f; text-decoration-color: #7f7f7f\">             </span>\n",
       "<span style=\"color: #7fbfbf; text-decoration-color: #7fbfbf\">                    </span>         <span style=\"color: #0000ff; text-decoration-color: #0000ff; text-decoration: underline\">https://docs.kedro.org/en/stable/configuration/telemetry.html</span>            <span style=\"color: #7f7f7f; text-decoration-color: #7f7f7f\">             </span>\n",
       "</pre>\n"
      ],
      "text/plain": [
       "\u001b[2;36m                   \u001b[0m\u001b[2;36m \u001b[0m\u001b[34mINFO    \u001b[0m Kedro is sending anonymous usage data with the sole purpose of improving \u001b]8;id=611685;file:///opt/miniconda3/envs/fraud_detection/lib/python3.11/site-packages/kedro_telemetry/plugin.py\u001b\\\u001b[2mplugin.py\u001b[0m\u001b]8;;\u001b\\\u001b[2m:\u001b[0m\u001b]8;id=581613;file:///opt/miniconda3/envs/fraud_detection/lib/python3.11/site-packages/kedro_telemetry/plugin.py#233\u001b\\\u001b[2m233\u001b[0m\u001b]8;;\u001b\\\n",
       "\u001b[2;36m                    \u001b[0m         the product. No personal data or IP addresses are stored on our side. If \u001b[2m             \u001b[0m\n",
       "\u001b[2;36m                    \u001b[0m         you want to opt out, set the `KEDRO_DISABLE_TELEMETRY` or `DO_NOT_TRACK` \u001b[2m             \u001b[0m\n",
       "\u001b[2;36m                    \u001b[0m         environment variables, or create a `.telemetry` file in the current      \u001b[2m             \u001b[0m\n",
       "\u001b[2;36m                    \u001b[0m         working directory with the contents `consent: false`. Read more at       \u001b[2m             \u001b[0m\n",
       "\u001b[2;36m                    \u001b[0m         \u001b[4;94mhttps://docs.kedro.org/en/stable/configuration/telemetry.html\u001b[0m            \u001b[2m             \u001b[0m\n"
      ]
     },
     "metadata": {},
     "output_type": "display_data"
    },
    {
     "data": {
      "text/html": [
       "<pre style=\"white-space:pre;overflow-x:auto;line-height:normal;font-family:Menlo,'DejaVu Sans Mono',consolas,'Courier New',monospace\"><span style=\"color: #7fbfbf; text-decoration-color: #7fbfbf\">                    </span><span style=\"color: #000080; text-decoration-color: #000080\">INFO    </span> Kedro project fraud_detection                                          <a href=\"file:///opt/miniconda3/envs/fraud_detection/lib/python3.11/site-packages/kedro/ipython/__init__.py\" target=\"_blank\"><span style=\"color: #7f7f7f; text-decoration-color: #7f7f7f\">__init__.py</span></a><span style=\"color: #7f7f7f; text-decoration-color: #7f7f7f\">:</span><a href=\"file:///opt/miniconda3/envs/fraud_detection/lib/python3.11/site-packages/kedro/ipython/__init__.py#141\" target=\"_blank\"><span style=\"color: #7f7f7f; text-decoration-color: #7f7f7f\">141</span></a>\n",
       "</pre>\n"
      ],
      "text/plain": [
       "\u001b[2;36m                   \u001b[0m\u001b[2;36m \u001b[0m\u001b[34mINFO    \u001b[0m Kedro project fraud_detection                                          \u001b]8;id=913889;file:///opt/miniconda3/envs/fraud_detection/lib/python3.11/site-packages/kedro/ipython/__init__.py\u001b\\\u001b[2m__init__.py\u001b[0m\u001b]8;;\u001b\\\u001b[2m:\u001b[0m\u001b]8;id=316857;file:///opt/miniconda3/envs/fraud_detection/lib/python3.11/site-packages/kedro/ipython/__init__.py#141\u001b\\\u001b[2m141\u001b[0m\u001b]8;;\u001b\\\n"
      ]
     },
     "metadata": {},
     "output_type": "display_data"
    },
    {
     "data": {
      "text/html": [
       "<pre style=\"white-space:pre;overflow-x:auto;line-height:normal;font-family:Menlo,'DejaVu Sans Mono',consolas,'Courier New',monospace\"><span style=\"color: #7fbfbf; text-decoration-color: #7fbfbf\">                    </span><span style=\"color: #000080; text-decoration-color: #000080\">INFO    </span> Defined global variable <span style=\"color: #008000; text-decoration-color: #008000\">'context'</span>, <span style=\"color: #008000; text-decoration-color: #008000\">'session'</span>, <span style=\"color: #008000; text-decoration-color: #008000\">'catalog'</span> and            <a href=\"file:///opt/miniconda3/envs/fraud_detection/lib/python3.11/site-packages/kedro/ipython/__init__.py\" target=\"_blank\"><span style=\"color: #7f7f7f; text-decoration-color: #7f7f7f\">__init__.py</span></a><span style=\"color: #7f7f7f; text-decoration-color: #7f7f7f\">:</span><a href=\"file:///opt/miniconda3/envs/fraud_detection/lib/python3.11/site-packages/kedro/ipython/__init__.py#142\" target=\"_blank\"><span style=\"color: #7f7f7f; text-decoration-color: #7f7f7f\">142</span></a>\n",
       "<span style=\"color: #7fbfbf; text-decoration-color: #7fbfbf\">                    </span>         <span style=\"color: #008000; text-decoration-color: #008000\">'pipelines'</span>                                                            <span style=\"color: #7f7f7f; text-decoration-color: #7f7f7f\">               </span>\n",
       "</pre>\n"
      ],
      "text/plain": [
       "\u001b[2;36m                   \u001b[0m\u001b[2;36m \u001b[0m\u001b[34mINFO    \u001b[0m Defined global variable \u001b[32m'context'\u001b[0m, \u001b[32m'session'\u001b[0m, \u001b[32m'catalog'\u001b[0m and            \u001b]8;id=274865;file:///opt/miniconda3/envs/fraud_detection/lib/python3.11/site-packages/kedro/ipython/__init__.py\u001b\\\u001b[2m__init__.py\u001b[0m\u001b]8;;\u001b\\\u001b[2m:\u001b[0m\u001b]8;id=211592;file:///opt/miniconda3/envs/fraud_detection/lib/python3.11/site-packages/kedro/ipython/__init__.py#142\u001b\\\u001b[2m142\u001b[0m\u001b]8;;\u001b\\\n",
       "\u001b[2;36m                    \u001b[0m         \u001b[32m'pipelines'\u001b[0m                                                            \u001b[2m               \u001b[0m\n"
      ]
     },
     "metadata": {},
     "output_type": "display_data"
    },
    {
     "data": {
      "text/html": [
       "<pre style=\"white-space:pre;overflow-x:auto;line-height:normal;font-family:Menlo,'DejaVu Sans Mono',consolas,'Courier New',monospace\"><span style=\"color: #7fbfbf; text-decoration-color: #7fbfbf\">                    </span><span style=\"color: #000080; text-decoration-color: #000080\">INFO    </span> Registered line magic <span style=\"color: #008000; text-decoration-color: #008000\">'run_viz'</span>                                        <a href=\"file:///opt/miniconda3/envs/fraud_detection/lib/python3.11/site-packages/kedro/ipython/__init__.py\" target=\"_blank\"><span style=\"color: #7f7f7f; text-decoration-color: #7f7f7f\">__init__.py</span></a><span style=\"color: #7f7f7f; text-decoration-color: #7f7f7f\">:</span><a href=\"file:///opt/miniconda3/envs/fraud_detection/lib/python3.11/site-packages/kedro/ipython/__init__.py#148\" target=\"_blank\"><span style=\"color: #7f7f7f; text-decoration-color: #7f7f7f\">148</span></a>\n",
       "</pre>\n"
      ],
      "text/plain": [
       "\u001b[2;36m                   \u001b[0m\u001b[2;36m \u001b[0m\u001b[34mINFO    \u001b[0m Registered line magic \u001b[32m'run_viz'\u001b[0m                                        \u001b]8;id=123048;file:///opt/miniconda3/envs/fraud_detection/lib/python3.11/site-packages/kedro/ipython/__init__.py\u001b\\\u001b[2m__init__.py\u001b[0m\u001b]8;;\u001b\\\u001b[2m:\u001b[0m\u001b]8;id=219303;file:///opt/miniconda3/envs/fraud_detection/lib/python3.11/site-packages/kedro/ipython/__init__.py#148\u001b\\\u001b[2m148\u001b[0m\u001b]8;;\u001b\\\n"
      ]
     },
     "metadata": {},
     "output_type": "display_data"
    }
   ],
   "source": [
    "%reload_kedro"
   ]
  },
  {
   "cell_type": "code",
   "execution_count": 2,
   "id": "f088c8dc-f393-4d02-af9a-3da3e9160438",
   "metadata": {},
   "outputs": [],
   "source": [
    "from fraud_detection.utils.row_preprocessor import get_row_preprocessor, FAST_MODEL_SETTINGS"
   ]
  },
  {
   "cell_type": "code",
   "execution_count": 5,
   "id": "1e68268b-64ba-418a-890f-0a35f35f93dc",
   "metadata": {},
   "outputs": [
    {
     "data": {
      "text/html": [
       "<pre style=\"white-space:pre;overflow-x:auto;line-height:normal;font-family:Menlo,'DejaVu Sans Mono',consolas,'Courier New',monospace\"><span style=\"color: #7fbfbf; text-decoration-color: #7fbfbf\">[08/14/24 20:16:58] </span><span style=\"color: #000080; text-decoration-color: #000080\">INFO    </span> Loading data from <span style=\"color: #ff8700; text-decoration-color: #ff8700\">combined_train_data</span> <span style=\"font-weight: bold\">(</span>CSVDataset<span style=\"font-weight: bold\">)</span><span style=\"color: #808000; text-decoration-color: #808000\">...</span>              <a href=\"file:///opt/miniconda3/envs/fraud_detection/lib/python3.11/site-packages/kedro/io/data_catalog.py\" target=\"_blank\"><span style=\"color: #7f7f7f; text-decoration-color: #7f7f7f\">data_catalog.py</span></a><span style=\"color: #7f7f7f; text-decoration-color: #7f7f7f\">:</span><a href=\"file:///opt/miniconda3/envs/fraud_detection/lib/python3.11/site-packages/kedro/io/data_catalog.py#508\" target=\"_blank\"><span style=\"color: #7f7f7f; text-decoration-color: #7f7f7f\">508</span></a>\n",
       "</pre>\n"
      ],
      "text/plain": [
       "\u001b[2;36m[08/14/24 20:16:58]\u001b[0m\u001b[2;36m \u001b[0m\u001b[34mINFO    \u001b[0m Loading data from \u001b[38;5;208mcombined_train_data\u001b[0m \u001b[1m(\u001b[0mCSVDataset\u001b[1m)\u001b[0m\u001b[33m...\u001b[0m              \u001b]8;id=805459;file:///opt/miniconda3/envs/fraud_detection/lib/python3.11/site-packages/kedro/io/data_catalog.py\u001b\\\u001b[2mdata_catalog.py\u001b[0m\u001b]8;;\u001b\\\u001b[2m:\u001b[0m\u001b]8;id=164887;file:///opt/miniconda3/envs/fraud_detection/lib/python3.11/site-packages/kedro/io/data_catalog.py#508\u001b\\\u001b[2m508\u001b[0m\u001b]8;;\u001b\\\n"
      ]
     },
     "metadata": {},
     "output_type": "display_data"
    },
    {
     "data": {
      "text/html": [
       "<pre style=\"white-space:pre;overflow-x:auto;line-height:normal;font-family:Menlo,'DejaVu Sans Mono',consolas,'Courier New',monospace\"></pre>\n"
      ],
      "text/plain": []
     },
     "metadata": {},
     "output_type": "display_data"
    },
    {
     "data": {
      "text/html": [
       "<div>\n",
       "<style scoped>\n",
       "    .dataframe tbody tr th:only-of-type {\n",
       "        vertical-align: middle;\n",
       "    }\n",
       "\n",
       "    .dataframe tbody tr th {\n",
       "        vertical-align: top;\n",
       "    }\n",
       "\n",
       "    .dataframe thead th {\n",
       "        text-align: right;\n",
       "    }\n",
       "</style>\n",
       "<table border=\"1\" class=\"dataframe\">\n",
       "  <thead>\n",
       "    <tr style=\"text-align: right;\">\n",
       "      <th></th>\n",
       "      <th>cc_num</th>\n",
       "      <th>window_id</th>\n",
       "      <th>label</th>\n",
       "      <th>merchant</th>\n",
       "      <th>category</th>\n",
       "      <th>amt</th>\n",
       "      <th>gender</th>\n",
       "      <th>city</th>\n",
       "      <th>state</th>\n",
       "      <th>city_pop</th>\n",
       "      <th>job</th>\n",
       "    </tr>\n",
       "  </thead>\n",
       "  <tbody>\n",
       "    <tr>\n",
       "      <th>0</th>\n",
       "      <td>60416207185</td>\n",
       "      <td>60416207185_115</td>\n",
       "      <td>True</td>\n",
       "      <td>fraud_Schroeder, Hauck and Treutel</td>\n",
       "      <td>entertainment</td>\n",
       "      <td>90.60</td>\n",
       "      <td>F</td>\n",
       "      <td>Fort Washakie</td>\n",
       "      <td>WY</td>\n",
       "      <td>1645</td>\n",
       "      <td>Information systems manager</td>\n",
       "    </tr>\n",
       "    <tr>\n",
       "      <th>1</th>\n",
       "      <td>60416207185</td>\n",
       "      <td>60416207185_115</td>\n",
       "      <td>True</td>\n",
       "      <td>fraud_Hills, Hegmann and Schaefer</td>\n",
       "      <td>health_fitness</td>\n",
       "      <td>26.13</td>\n",
       "      <td>F</td>\n",
       "      <td>Fort Washakie</td>\n",
       "      <td>WY</td>\n",
       "      <td>1645</td>\n",
       "      <td>Information systems manager</td>\n",
       "    </tr>\n",
       "    <tr>\n",
       "      <th>2</th>\n",
       "      <td>60416207185</td>\n",
       "      <td>60416207185_115</td>\n",
       "      <td>True</td>\n",
       "      <td>fraud_Langworth, Boehm and Gulgowski</td>\n",
       "      <td>shopping_net</td>\n",
       "      <td>1.24</td>\n",
       "      <td>F</td>\n",
       "      <td>Fort Washakie</td>\n",
       "      <td>WY</td>\n",
       "      <td>1645</td>\n",
       "      <td>Information systems manager</td>\n",
       "    </tr>\n",
       "    <tr>\n",
       "      <th>3</th>\n",
       "      <td>60416207185</td>\n",
       "      <td>60416207185_115</td>\n",
       "      <td>True</td>\n",
       "      <td>fraud_Turcotte-Halvorson</td>\n",
       "      <td>misc_pos</td>\n",
       "      <td>11.60</td>\n",
       "      <td>F</td>\n",
       "      <td>Fort Washakie</td>\n",
       "      <td>WY</td>\n",
       "      <td>1645</td>\n",
       "      <td>Information systems manager</td>\n",
       "    </tr>\n",
       "    <tr>\n",
       "      <th>4</th>\n",
       "      <td>60416207185</td>\n",
       "      <td>60416207185_115</td>\n",
       "      <td>True</td>\n",
       "      <td>fraud_Padberg-Sauer</td>\n",
       "      <td>home</td>\n",
       "      <td>200.83</td>\n",
       "      <td>F</td>\n",
       "      <td>Fort Washakie</td>\n",
       "      <td>WY</td>\n",
       "      <td>1645</td>\n",
       "      <td>Information systems manager</td>\n",
       "    </tr>\n",
       "  </tbody>\n",
       "</table>\n",
       "</div>"
      ],
      "text/plain": [
       "\n",
       "        cc_num        window_id  label                              merchant  \\\n",
       "\u001b[1;36m0\u001b[0m  \u001b[1;36m60416207185\u001b[0m  60416207185_115   \u001b[3;92mTrue\u001b[0m    fraud_Schroeder, Hauck and Treutel   \n",
       "\u001b[1;36m1\u001b[0m  \u001b[1;36m60416207185\u001b[0m  60416207185_115   \u001b[3;92mTrue\u001b[0m     fraud_Hills, Hegmann and Schaefer   \n",
       "\u001b[1;36m2\u001b[0m  \u001b[1;36m60416207185\u001b[0m  60416207185_115   \u001b[3;92mTrue\u001b[0m  fraud_Langworth, Boehm and Gulgowski   \n",
       "\u001b[1;36m3\u001b[0m  \u001b[1;36m60416207185\u001b[0m  60416207185_115   \u001b[3;92mTrue\u001b[0m              fraud_Turcotte-Halvorson   \n",
       "\u001b[1;36m4\u001b[0m  \u001b[1;36m60416207185\u001b[0m  60416207185_115   \u001b[3;92mTrue\u001b[0m                   fraud_Padberg-Sauer   \n",
       "\n",
       "         category     amt gender           city state  city_pop  \\\n",
       "\u001b[1;36m0\u001b[0m   entertainment   \u001b[1;36m90.60\u001b[0m      F  Fort Washakie    WY      \u001b[1;36m1645\u001b[0m   \n",
       "\u001b[1;36m1\u001b[0m  health_fitness   \u001b[1;36m26.13\u001b[0m      F  Fort Washakie    WY      \u001b[1;36m1645\u001b[0m   \n",
       "\u001b[1;36m2\u001b[0m    shopping_net    \u001b[1;36m1.24\u001b[0m      F  Fort Washakie    WY      \u001b[1;36m1645\u001b[0m   \n",
       "\u001b[1;36m3\u001b[0m        misc_pos   \u001b[1;36m11.60\u001b[0m      F  Fort Washakie    WY      \u001b[1;36m1645\u001b[0m   \n",
       "\u001b[1;36m4\u001b[0m            home  \u001b[1;36m200.83\u001b[0m      F  Fort Washakie    WY      \u001b[1;36m1645\u001b[0m   \n",
       "\n",
       "                           job  \n",
       "\u001b[1;36m0\u001b[0m  Information systems manager  \n",
       "\u001b[1;36m1\u001b[0m  Information systems manager  \n",
       "\u001b[1;36m2\u001b[0m  Information systems manager  \n",
       "\u001b[1;36m3\u001b[0m  Information systems manager  \n",
       "\u001b[1;36m4\u001b[0m  Information systems manager  "
      ]
     },
     "execution_count": 5,
     "metadata": {},
     "output_type": "execute_result"
    }
   ],
   "source": [
    "train_data = catalog.load(\"combined_train_data\")\n",
    "id_cols = context.params.get(\"train_set_parameters\").get(\"columns\").get('id_columns')\n",
    "cat_cols = [\"merchant\", \"category\"] #, \"gender\"]\n",
    "num_cols = [\"amt\", 'city_pop']\n",
    "\n",
    "train_data.head()"
   ]
  },
  {
   "cell_type": "code",
   "execution_count": 6,
   "id": "e947462b-690a-4f86-903f-a505609a45dd",
   "metadata": {},
   "outputs": [
    {
     "data": {
      "text/html": [
       "<pre style=\"white-space:pre;overflow-x:auto;line-height:normal;font-family:Menlo,'DejaVu Sans Mono',consolas,'Courier New',monospace\"><span style=\"color: #7fbfbf; text-decoration-color: #7fbfbf\">[08/14/24 20:17:02] </span><span style=\"color: #800000; text-decoration-color: #800000\">WARNING </span> Each <span style=\"color: #008000; text-decoration-color: #008000\">'sentences'</span> item should be a list of words <span style=\"font-weight: bold\">(</span>usually unicode       <a href=\"file:///opt/miniconda3/envs/fraud_detection/lib/python3.11/site-packages/gensim/models/word2vec.py\" target=\"_blank\"><span style=\"color: #7f7f7f; text-decoration-color: #7f7f7f\">word2vec.py</span></a><span style=\"color: #7f7f7f; text-decoration-color: #7f7f7f\">:</span><a href=\"file:///opt/miniconda3/envs/fraud_detection/lib/python3.11/site-packages/gensim/models/word2vec.py#558\" target=\"_blank\"><span style=\"color: #7f7f7f; text-decoration-color: #7f7f7f\">558</span></a>\n",
       "<span style=\"color: #7fbfbf; text-decoration-color: #7fbfbf\">                    </span>         strings<span style=\"font-weight: bold\">)</span>. First item here is instead plain <span style=\"font-weight: bold\">&lt;</span><span style=\"color: #ff00ff; text-decoration-color: #ff00ff; font-weight: bold\">class</span><span style=\"color: #000000; text-decoration-color: #000000\"> </span><span style=\"color: #008000; text-decoration-color: #008000\">'str'</span><span style=\"font-weight: bold\">&gt;</span>.              <span style=\"color: #7f7f7f; text-decoration-color: #7f7f7f\">               </span>\n",
       "</pre>\n"
      ],
      "text/plain": [
       "\u001b[2;36m[08/14/24 20:17:02]\u001b[0m\u001b[2;36m \u001b[0m\u001b[31mWARNING \u001b[0m Each \u001b[32m'sentences'\u001b[0m item should be a list of words \u001b[1m(\u001b[0musually unicode       \u001b]8;id=984707;file:///opt/miniconda3/envs/fraud_detection/lib/python3.11/site-packages/gensim/models/word2vec.py\u001b\\\u001b[2mword2vec.py\u001b[0m\u001b]8;;\u001b\\\u001b[2m:\u001b[0m\u001b]8;id=527286;file:///opt/miniconda3/envs/fraud_detection/lib/python3.11/site-packages/gensim/models/word2vec.py#558\u001b\\\u001b[2m558\u001b[0m\u001b]8;;\u001b\\\n",
       "\u001b[2;36m                    \u001b[0m         strings\u001b[1m)\u001b[0m. First item here is instead plain \u001b[1m<\u001b[0m\u001b[1;95mclass\u001b[0m\u001b[39m \u001b[0m\u001b[32m'str'\u001b[0m\u001b[1m>\u001b[0m.              \u001b[2m               \u001b[0m\n"
      ]
     },
     "metadata": {},
     "output_type": "display_data"
    },
    {
     "data": {
      "text/html": [
       "<pre style=\"white-space:pre;overflow-x:auto;line-height:normal;font-family:Menlo,'DejaVu Sans Mono',consolas,'Courier New',monospace\"><span style=\"color: #7fbfbf; text-decoration-color: #7fbfbf\">[08/14/24 20:17:04] </span><span style=\"color: #800000; text-decoration-color: #800000\">WARNING </span> Each <span style=\"color: #008000; text-decoration-color: #008000\">'sentences'</span> item should be a list of words <span style=\"font-weight: bold\">(</span>usually unicode       <a href=\"file:///opt/miniconda3/envs/fraud_detection/lib/python3.11/site-packages/gensim/models/word2vec.py\" target=\"_blank\"><span style=\"color: #7f7f7f; text-decoration-color: #7f7f7f\">word2vec.py</span></a><span style=\"color: #7f7f7f; text-decoration-color: #7f7f7f\">:</span><a href=\"file:///opt/miniconda3/envs/fraud_detection/lib/python3.11/site-packages/gensim/models/word2vec.py#558\" target=\"_blank\"><span style=\"color: #7f7f7f; text-decoration-color: #7f7f7f\">558</span></a>\n",
       "<span style=\"color: #7fbfbf; text-decoration-color: #7fbfbf\">                    </span>         strings<span style=\"font-weight: bold\">)</span>. First item here is instead plain <span style=\"font-weight: bold\">&lt;</span><span style=\"color: #ff00ff; text-decoration-color: #ff00ff; font-weight: bold\">class</span><span style=\"color: #000000; text-decoration-color: #000000\"> </span><span style=\"color: #008000; text-decoration-color: #008000\">'str'</span><span style=\"font-weight: bold\">&gt;</span>.              <span style=\"color: #7f7f7f; text-decoration-color: #7f7f7f\">               </span>\n",
       "</pre>\n"
      ],
      "text/plain": [
       "\u001b[2;36m[08/14/24 20:17:04]\u001b[0m\u001b[2;36m \u001b[0m\u001b[31mWARNING \u001b[0m Each \u001b[32m'sentences'\u001b[0m item should be a list of words \u001b[1m(\u001b[0musually unicode       \u001b]8;id=754225;file:///opt/miniconda3/envs/fraud_detection/lib/python3.11/site-packages/gensim/models/word2vec.py\u001b\\\u001b[2mword2vec.py\u001b[0m\u001b]8;;\u001b\\\u001b[2m:\u001b[0m\u001b]8;id=984364;file:///opt/miniconda3/envs/fraud_detection/lib/python3.11/site-packages/gensim/models/word2vec.py#558\u001b\\\u001b[2m558\u001b[0m\u001b]8;;\u001b\\\n",
       "\u001b[2;36m                    \u001b[0m         strings\u001b[1m)\u001b[0m. First item here is instead plain \u001b[1m<\u001b[0m\u001b[1;95mclass\u001b[0m\u001b[39m \u001b[0m\u001b[32m'str'\u001b[0m\u001b[1m>\u001b[0m.              \u001b[2m               \u001b[0m\n"
      ]
     },
     "metadata": {},
     "output_type": "display_data"
    },
    {
     "data": {
      "text/html": [
       "<style>#sk-container-id-2 {\n",
       "  /* Definition of color scheme common for light and dark mode */\n",
       "  --sklearn-color-text: black;\n",
       "  --sklearn-color-line: gray;\n",
       "  /* Definition of color scheme for unfitted estimators */\n",
       "  --sklearn-color-unfitted-level-0: #fff5e6;\n",
       "  --sklearn-color-unfitted-level-1: #f6e4d2;\n",
       "  --sklearn-color-unfitted-level-2: #ffe0b3;\n",
       "  --sklearn-color-unfitted-level-3: chocolate;\n",
       "  /* Definition of color scheme for fitted estimators */\n",
       "  --sklearn-color-fitted-level-0: #f0f8ff;\n",
       "  --sklearn-color-fitted-level-1: #d4ebff;\n",
       "  --sklearn-color-fitted-level-2: #b3dbfd;\n",
       "  --sklearn-color-fitted-level-3: cornflowerblue;\n",
       "\n",
       "  /* Specific color for light theme */\n",
       "  --sklearn-color-text-on-default-background: var(--sg-text-color, var(--theme-code-foreground, var(--jp-content-font-color1, black)));\n",
       "  --sklearn-color-background: var(--sg-background-color, var(--theme-background, var(--jp-layout-color0, white)));\n",
       "  --sklearn-color-border-box: var(--sg-text-color, var(--theme-code-foreground, var(--jp-content-font-color1, black)));\n",
       "  --sklearn-color-icon: #696969;\n",
       "\n",
       "  @media (prefers-color-scheme: dark) {\n",
       "    /* Redefinition of color scheme for dark theme */\n",
       "    --sklearn-color-text-on-default-background: var(--sg-text-color, var(--theme-code-foreground, var(--jp-content-font-color1, white)));\n",
       "    --sklearn-color-background: var(--sg-background-color, var(--theme-background, var(--jp-layout-color0, #111)));\n",
       "    --sklearn-color-border-box: var(--sg-text-color, var(--theme-code-foreground, var(--jp-content-font-color1, white)));\n",
       "    --sklearn-color-icon: #878787;\n",
       "  }\n",
       "}\n",
       "\n",
       "#sk-container-id-2 {\n",
       "  color: var(--sklearn-color-text);\n",
       "}\n",
       "\n",
       "#sk-container-id-2 pre {\n",
       "  padding: 0;\n",
       "}\n",
       "\n",
       "#sk-container-id-2 input.sk-hidden--visually {\n",
       "  border: 0;\n",
       "  clip: rect(1px 1px 1px 1px);\n",
       "  clip: rect(1px, 1px, 1px, 1px);\n",
       "  height: 1px;\n",
       "  margin: -1px;\n",
       "  overflow: hidden;\n",
       "  padding: 0;\n",
       "  position: absolute;\n",
       "  width: 1px;\n",
       "}\n",
       "\n",
       "#sk-container-id-2 div.sk-dashed-wrapped {\n",
       "  border: 1px dashed var(--sklearn-color-line);\n",
       "  margin: 0 0.4em 0.5em 0.4em;\n",
       "  box-sizing: border-box;\n",
       "  padding-bottom: 0.4em;\n",
       "  background-color: var(--sklearn-color-background);\n",
       "}\n",
       "\n",
       "#sk-container-id-2 div.sk-container {\n",
       "  /* jupyter's `normalize.less` sets `[hidden] { display: none; }`\n",
       "     but bootstrap.min.css set `[hidden] { display: none !important; }`\n",
       "     so we also need the `!important` here to be able to override the\n",
       "     default hidden behavior on the sphinx rendered scikit-learn.org.\n",
       "     See: https://github.com/scikit-learn/scikit-learn/issues/21755 */\n",
       "  display: inline-block !important;\n",
       "  position: relative;\n",
       "}\n",
       "\n",
       "#sk-container-id-2 div.sk-text-repr-fallback {\n",
       "  display: none;\n",
       "}\n",
       "\n",
       "div.sk-parallel-item,\n",
       "div.sk-serial,\n",
       "div.sk-item {\n",
       "  /* draw centered vertical line to link estimators */\n",
       "  background-image: linear-gradient(var(--sklearn-color-text-on-default-background), var(--sklearn-color-text-on-default-background));\n",
       "  background-size: 2px 100%;\n",
       "  background-repeat: no-repeat;\n",
       "  background-position: center center;\n",
       "}\n",
       "\n",
       "/* Parallel-specific style estimator block */\n",
       "\n",
       "#sk-container-id-2 div.sk-parallel-item::after {\n",
       "  content: \"\";\n",
       "  width: 100%;\n",
       "  border-bottom: 2px solid var(--sklearn-color-text-on-default-background);\n",
       "  flex-grow: 1;\n",
       "}\n",
       "\n",
       "#sk-container-id-2 div.sk-parallel {\n",
       "  display: flex;\n",
       "  align-items: stretch;\n",
       "  justify-content: center;\n",
       "  background-color: var(--sklearn-color-background);\n",
       "  position: relative;\n",
       "}\n",
       "\n",
       "#sk-container-id-2 div.sk-parallel-item {\n",
       "  display: flex;\n",
       "  flex-direction: column;\n",
       "}\n",
       "\n",
       "#sk-container-id-2 div.sk-parallel-item:first-child::after {\n",
       "  align-self: flex-end;\n",
       "  width: 50%;\n",
       "}\n",
       "\n",
       "#sk-container-id-2 div.sk-parallel-item:last-child::after {\n",
       "  align-self: flex-start;\n",
       "  width: 50%;\n",
       "}\n",
       "\n",
       "#sk-container-id-2 div.sk-parallel-item:only-child::after {\n",
       "  width: 0;\n",
       "}\n",
       "\n",
       "/* Serial-specific style estimator block */\n",
       "\n",
       "#sk-container-id-2 div.sk-serial {\n",
       "  display: flex;\n",
       "  flex-direction: column;\n",
       "  align-items: center;\n",
       "  background-color: var(--sklearn-color-background);\n",
       "  padding-right: 1em;\n",
       "  padding-left: 1em;\n",
       "}\n",
       "\n",
       "\n",
       "/* Toggleable style: style used for estimator/Pipeline/ColumnTransformer box that is\n",
       "clickable and can be expanded/collapsed.\n",
       "- Pipeline and ColumnTransformer use this feature and define the default style\n",
       "- Estimators will overwrite some part of the style using the `sk-estimator` class\n",
       "*/\n",
       "\n",
       "/* Pipeline and ColumnTransformer style (default) */\n",
       "\n",
       "#sk-container-id-2 div.sk-toggleable {\n",
       "  /* Default theme specific background. It is overwritten whether we have a\n",
       "  specific estimator or a Pipeline/ColumnTransformer */\n",
       "  background-color: var(--sklearn-color-background);\n",
       "}\n",
       "\n",
       "/* Toggleable label */\n",
       "#sk-container-id-2 label.sk-toggleable__label {\n",
       "  cursor: pointer;\n",
       "  display: block;\n",
       "  width: 100%;\n",
       "  margin-bottom: 0;\n",
       "  padding: 0.5em;\n",
       "  box-sizing: border-box;\n",
       "  text-align: center;\n",
       "}\n",
       "\n",
       "#sk-container-id-2 label.sk-toggleable__label-arrow:before {\n",
       "  /* Arrow on the left of the label */\n",
       "  content: \"▸\";\n",
       "  float: left;\n",
       "  margin-right: 0.25em;\n",
       "  color: var(--sklearn-color-icon);\n",
       "}\n",
       "\n",
       "#sk-container-id-2 label.sk-toggleable__label-arrow:hover:before {\n",
       "  color: var(--sklearn-color-text);\n",
       "}\n",
       "\n",
       "/* Toggleable content - dropdown */\n",
       "\n",
       "#sk-container-id-2 div.sk-toggleable__content {\n",
       "  max-height: 0;\n",
       "  max-width: 0;\n",
       "  overflow: hidden;\n",
       "  text-align: left;\n",
       "  /* unfitted */\n",
       "  background-color: var(--sklearn-color-unfitted-level-0);\n",
       "}\n",
       "\n",
       "#sk-container-id-2 div.sk-toggleable__content.fitted {\n",
       "  /* fitted */\n",
       "  background-color: var(--sklearn-color-fitted-level-0);\n",
       "}\n",
       "\n",
       "#sk-container-id-2 div.sk-toggleable__content pre {\n",
       "  margin: 0.2em;\n",
       "  border-radius: 0.25em;\n",
       "  color: var(--sklearn-color-text);\n",
       "  /* unfitted */\n",
       "  background-color: var(--sklearn-color-unfitted-level-0);\n",
       "}\n",
       "\n",
       "#sk-container-id-2 div.sk-toggleable__content.fitted pre {\n",
       "  /* unfitted */\n",
       "  background-color: var(--sklearn-color-fitted-level-0);\n",
       "}\n",
       "\n",
       "#sk-container-id-2 input.sk-toggleable__control:checked~div.sk-toggleable__content {\n",
       "  /* Expand drop-down */\n",
       "  max-height: 200px;\n",
       "  max-width: 100%;\n",
       "  overflow: auto;\n",
       "}\n",
       "\n",
       "#sk-container-id-2 input.sk-toggleable__control:checked~label.sk-toggleable__label-arrow:before {\n",
       "  content: \"▾\";\n",
       "}\n",
       "\n",
       "/* Pipeline/ColumnTransformer-specific style */\n",
       "\n",
       "#sk-container-id-2 div.sk-label input.sk-toggleable__control:checked~label.sk-toggleable__label {\n",
       "  color: var(--sklearn-color-text);\n",
       "  background-color: var(--sklearn-color-unfitted-level-2);\n",
       "}\n",
       "\n",
       "#sk-container-id-2 div.sk-label.fitted input.sk-toggleable__control:checked~label.sk-toggleable__label {\n",
       "  background-color: var(--sklearn-color-fitted-level-2);\n",
       "}\n",
       "\n",
       "/* Estimator-specific style */\n",
       "\n",
       "/* Colorize estimator box */\n",
       "#sk-container-id-2 div.sk-estimator input.sk-toggleable__control:checked~label.sk-toggleable__label {\n",
       "  /* unfitted */\n",
       "  background-color: var(--sklearn-color-unfitted-level-2);\n",
       "}\n",
       "\n",
       "#sk-container-id-2 div.sk-estimator.fitted input.sk-toggleable__control:checked~label.sk-toggleable__label {\n",
       "  /* fitted */\n",
       "  background-color: var(--sklearn-color-fitted-level-2);\n",
       "}\n",
       "\n",
       "#sk-container-id-2 div.sk-label label.sk-toggleable__label,\n",
       "#sk-container-id-2 div.sk-label label {\n",
       "  /* The background is the default theme color */\n",
       "  color: var(--sklearn-color-text-on-default-background);\n",
       "}\n",
       "\n",
       "/* On hover, darken the color of the background */\n",
       "#sk-container-id-2 div.sk-label:hover label.sk-toggleable__label {\n",
       "  color: var(--sklearn-color-text);\n",
       "  background-color: var(--sklearn-color-unfitted-level-2);\n",
       "}\n",
       "\n",
       "/* Label box, darken color on hover, fitted */\n",
       "#sk-container-id-2 div.sk-label.fitted:hover label.sk-toggleable__label.fitted {\n",
       "  color: var(--sklearn-color-text);\n",
       "  background-color: var(--sklearn-color-fitted-level-2);\n",
       "}\n",
       "\n",
       "/* Estimator label */\n",
       "\n",
       "#sk-container-id-2 div.sk-label label {\n",
       "  font-family: monospace;\n",
       "  font-weight: bold;\n",
       "  display: inline-block;\n",
       "  line-height: 1.2em;\n",
       "}\n",
       "\n",
       "#sk-container-id-2 div.sk-label-container {\n",
       "  text-align: center;\n",
       "}\n",
       "\n",
       "/* Estimator-specific */\n",
       "#sk-container-id-2 div.sk-estimator {\n",
       "  font-family: monospace;\n",
       "  border: 1px dotted var(--sklearn-color-border-box);\n",
       "  border-radius: 0.25em;\n",
       "  box-sizing: border-box;\n",
       "  margin-bottom: 0.5em;\n",
       "  /* unfitted */\n",
       "  background-color: var(--sklearn-color-unfitted-level-0);\n",
       "}\n",
       "\n",
       "#sk-container-id-2 div.sk-estimator.fitted {\n",
       "  /* fitted */\n",
       "  background-color: var(--sklearn-color-fitted-level-0);\n",
       "}\n",
       "\n",
       "/* on hover */\n",
       "#sk-container-id-2 div.sk-estimator:hover {\n",
       "  /* unfitted */\n",
       "  background-color: var(--sklearn-color-unfitted-level-2);\n",
       "}\n",
       "\n",
       "#sk-container-id-2 div.sk-estimator.fitted:hover {\n",
       "  /* fitted */\n",
       "  background-color: var(--sklearn-color-fitted-level-2);\n",
       "}\n",
       "\n",
       "/* Specification for estimator info (e.g. \"i\" and \"?\") */\n",
       "\n",
       "/* Common style for \"i\" and \"?\" */\n",
       "\n",
       ".sk-estimator-doc-link,\n",
       "a:link.sk-estimator-doc-link,\n",
       "a:visited.sk-estimator-doc-link {\n",
       "  float: right;\n",
       "  font-size: smaller;\n",
       "  line-height: 1em;\n",
       "  font-family: monospace;\n",
       "  background-color: var(--sklearn-color-background);\n",
       "  border-radius: 1em;\n",
       "  height: 1em;\n",
       "  width: 1em;\n",
       "  text-decoration: none !important;\n",
       "  margin-left: 1ex;\n",
       "  /* unfitted */\n",
       "  border: var(--sklearn-color-unfitted-level-1) 1pt solid;\n",
       "  color: var(--sklearn-color-unfitted-level-1);\n",
       "}\n",
       "\n",
       ".sk-estimator-doc-link.fitted,\n",
       "a:link.sk-estimator-doc-link.fitted,\n",
       "a:visited.sk-estimator-doc-link.fitted {\n",
       "  /* fitted */\n",
       "  border: var(--sklearn-color-fitted-level-1) 1pt solid;\n",
       "  color: var(--sklearn-color-fitted-level-1);\n",
       "}\n",
       "\n",
       "/* On hover */\n",
       "div.sk-estimator:hover .sk-estimator-doc-link:hover,\n",
       ".sk-estimator-doc-link:hover,\n",
       "div.sk-label-container:hover .sk-estimator-doc-link:hover,\n",
       ".sk-estimator-doc-link:hover {\n",
       "  /* unfitted */\n",
       "  background-color: var(--sklearn-color-unfitted-level-3);\n",
       "  color: var(--sklearn-color-background);\n",
       "  text-decoration: none;\n",
       "}\n",
       "\n",
       "div.sk-estimator.fitted:hover .sk-estimator-doc-link.fitted:hover,\n",
       ".sk-estimator-doc-link.fitted:hover,\n",
       "div.sk-label-container:hover .sk-estimator-doc-link.fitted:hover,\n",
       ".sk-estimator-doc-link.fitted:hover {\n",
       "  /* fitted */\n",
       "  background-color: var(--sklearn-color-fitted-level-3);\n",
       "  color: var(--sklearn-color-background);\n",
       "  text-decoration: none;\n",
       "}\n",
       "\n",
       "/* Span, style for the box shown on hovering the info icon */\n",
       ".sk-estimator-doc-link span {\n",
       "  display: none;\n",
       "  z-index: 9999;\n",
       "  position: relative;\n",
       "  font-weight: normal;\n",
       "  right: .2ex;\n",
       "  padding: .5ex;\n",
       "  margin: .5ex;\n",
       "  width: min-content;\n",
       "  min-width: 20ex;\n",
       "  max-width: 50ex;\n",
       "  color: var(--sklearn-color-text);\n",
       "  box-shadow: 2pt 2pt 4pt #999;\n",
       "  /* unfitted */\n",
       "  background: var(--sklearn-color-unfitted-level-0);\n",
       "  border: .5pt solid var(--sklearn-color-unfitted-level-3);\n",
       "}\n",
       "\n",
       ".sk-estimator-doc-link.fitted span {\n",
       "  /* fitted */\n",
       "  background: var(--sklearn-color-fitted-level-0);\n",
       "  border: var(--sklearn-color-fitted-level-3);\n",
       "}\n",
       "\n",
       ".sk-estimator-doc-link:hover span {\n",
       "  display: block;\n",
       "}\n",
       "\n",
       "/* \"?\"-specific style due to the `<a>` HTML tag */\n",
       "\n",
       "#sk-container-id-2 a.estimator_doc_link {\n",
       "  float: right;\n",
       "  font-size: 1rem;\n",
       "  line-height: 1em;\n",
       "  font-family: monospace;\n",
       "  background-color: var(--sklearn-color-background);\n",
       "  border-radius: 1rem;\n",
       "  height: 1rem;\n",
       "  width: 1rem;\n",
       "  text-decoration: none;\n",
       "  /* unfitted */\n",
       "  color: var(--sklearn-color-unfitted-level-1);\n",
       "  border: var(--sklearn-color-unfitted-level-1) 1pt solid;\n",
       "}\n",
       "\n",
       "#sk-container-id-2 a.estimator_doc_link.fitted {\n",
       "  /* fitted */\n",
       "  border: var(--sklearn-color-fitted-level-1) 1pt solid;\n",
       "  color: var(--sklearn-color-fitted-level-1);\n",
       "}\n",
       "\n",
       "/* On hover */\n",
       "#sk-container-id-2 a.estimator_doc_link:hover {\n",
       "  /* unfitted */\n",
       "  background-color: var(--sklearn-color-unfitted-level-3);\n",
       "  color: var(--sklearn-color-background);\n",
       "  text-decoration: none;\n",
       "}\n",
       "\n",
       "#sk-container-id-2 a.estimator_doc_link.fitted:hover {\n",
       "  /* fitted */\n",
       "  background-color: var(--sklearn-color-fitted-level-3);\n",
       "}\n",
       "</style><div id=\"sk-container-id-2\" class=\"sk-top-container\"><div class=\"sk-text-repr-fallback\"><pre>Pipeline(steps=[(&#x27;combined_embeddings&#x27;,\n",
       "                 FeatureUnion(n_jobs=1,\n",
       "                              transformer_list=[(&#x27;encoder_pipeline_merchant&#x27;,\n",
       "                                                 Pipeline(steps=[(&#x27;encoder_merchant&#x27;,\n",
       "                                                                  FastTextEncoder(column=&#x27;merchant&#x27;,\n",
       "                                                                                  embedder_settings={&#x27;min_count&#x27;: 3,\n",
       "                                                                                                     &#x27;vector_size&#x27;: 3,\n",
       "                                                                                                     &#x27;window&#x27;: 5,\n",
       "                                                                                                     &#x27;workers&#x27;: 4}))])),\n",
       "                                                (&#x27;encoder_pipeline_category&#x27;,\n",
       "                                                 Pipeline(steps=[(&#x27;encoder_category&#x27;,\n",
       "                                                                  FastTextEncoder(column=&#x27;categ...\n",
       "                                                                  FunctionTransformer(func=&lt;function get_row_preprocessor.&lt;locals&gt;.&lt;listcomp&gt;.&lt;lambda&gt; at 0x316382c00&gt;)),\n",
       "                                                                 (&#x27;scaler_amt&#x27;,\n",
       "                                                                  StandardScaler()),\n",
       "                                                                 (&#x27;imputer_amt&#x27;,\n",
       "                                                                  SimpleImputer())])),\n",
       "                                                (&#x27;numeric_pipeline_city_pop&#x27;,\n",
       "                                                 Pipeline(steps=[(&#x27;selector_city_pop&#x27;,\n",
       "                                                                  FunctionTransformer(func=&lt;function get_row_preprocessor.&lt;locals&gt;.&lt;listcomp&gt;.&lt;lambda&gt; at 0x316382ca0&gt;)),\n",
       "                                                                 (&#x27;scaler_city_pop&#x27;,\n",
       "                                                                  StandardScaler()),\n",
       "                                                                 (&#x27;imputer_city_pop&#x27;,\n",
       "                                                                  SimpleImputer())]))]))])</pre><b>In a Jupyter environment, please rerun this cell to show the HTML representation or trust the notebook. <br />On GitHub, the HTML representation is unable to render, please try loading this page with nbviewer.org.</b></div><div class=\"sk-container\" hidden><div class=\"sk-item sk-dashed-wrapped\"><div class=\"sk-label-container\"><div class=\"sk-label  sk-toggleable\"><input class=\"sk-toggleable__control sk-hidden--visually\" id=\"sk-estimator-id-11\" type=\"checkbox\" ><label for=\"sk-estimator-id-11\" class=\"sk-toggleable__label  sk-toggleable__label-arrow \">&nbsp;&nbsp;Pipeline<a class=\"sk-estimator-doc-link \" rel=\"noreferrer\" target=\"_blank\" href=\"https://scikit-learn.org/1.5/modules/generated/sklearn.pipeline.Pipeline.html\">?<span>Documentation for Pipeline</span></a><span class=\"sk-estimator-doc-link \">i<span>Not fitted</span></span></label><div class=\"sk-toggleable__content \"><pre>Pipeline(steps=[(&#x27;combined_embeddings&#x27;,\n",
       "                 FeatureUnion(n_jobs=1,\n",
       "                              transformer_list=[(&#x27;encoder_pipeline_merchant&#x27;,\n",
       "                                                 Pipeline(steps=[(&#x27;encoder_merchant&#x27;,\n",
       "                                                                  FastTextEncoder(column=&#x27;merchant&#x27;,\n",
       "                                                                                  embedder_settings={&#x27;min_count&#x27;: 3,\n",
       "                                                                                                     &#x27;vector_size&#x27;: 3,\n",
       "                                                                                                     &#x27;window&#x27;: 5,\n",
       "                                                                                                     &#x27;workers&#x27;: 4}))])),\n",
       "                                                (&#x27;encoder_pipeline_category&#x27;,\n",
       "                                                 Pipeline(steps=[(&#x27;encoder_category&#x27;,\n",
       "                                                                  FastTextEncoder(column=&#x27;categ...\n",
       "                                                                  FunctionTransformer(func=&lt;function get_row_preprocessor.&lt;locals&gt;.&lt;listcomp&gt;.&lt;lambda&gt; at 0x316382c00&gt;)),\n",
       "                                                                 (&#x27;scaler_amt&#x27;,\n",
       "                                                                  StandardScaler()),\n",
       "                                                                 (&#x27;imputer_amt&#x27;,\n",
       "                                                                  SimpleImputer())])),\n",
       "                                                (&#x27;numeric_pipeline_city_pop&#x27;,\n",
       "                                                 Pipeline(steps=[(&#x27;selector_city_pop&#x27;,\n",
       "                                                                  FunctionTransformer(func=&lt;function get_row_preprocessor.&lt;locals&gt;.&lt;listcomp&gt;.&lt;lambda&gt; at 0x316382ca0&gt;)),\n",
       "                                                                 (&#x27;scaler_city_pop&#x27;,\n",
       "                                                                  StandardScaler()),\n",
       "                                                                 (&#x27;imputer_city_pop&#x27;,\n",
       "                                                                  SimpleImputer())]))]))])</pre></div> </div></div><div class=\"sk-serial\"><div class=\"sk-item sk-dashed-wrapped\"><div class=\"sk-label-container\"><div class=\"sk-label  sk-toggleable\"><input class=\"sk-toggleable__control sk-hidden--visually\" id=\"sk-estimator-id-12\" type=\"checkbox\" ><label for=\"sk-estimator-id-12\" class=\"sk-toggleable__label  sk-toggleable__label-arrow \">&nbsp;combined_embeddings: FeatureUnion<a class=\"sk-estimator-doc-link \" rel=\"noreferrer\" target=\"_blank\" href=\"https://scikit-learn.org/1.5/modules/generated/sklearn.pipeline.FeatureUnion.html\">?<span>Documentation for combined_embeddings: FeatureUnion</span></a></label><div class=\"sk-toggleable__content \"><pre>FeatureUnion(n_jobs=1,\n",
       "             transformer_list=[(&#x27;encoder_pipeline_merchant&#x27;,\n",
       "                                Pipeline(steps=[(&#x27;encoder_merchant&#x27;,\n",
       "                                                 FastTextEncoder(column=&#x27;merchant&#x27;,\n",
       "                                                                 embedder_settings={&#x27;min_count&#x27;: 3,\n",
       "                                                                                    &#x27;vector_size&#x27;: 3,\n",
       "                                                                                    &#x27;window&#x27;: 5,\n",
       "                                                                                    &#x27;workers&#x27;: 4}))])),\n",
       "                               (&#x27;encoder_pipeline_category&#x27;,\n",
       "                                Pipeline(steps=[(&#x27;encoder_category&#x27;,\n",
       "                                                 FastTextEncoder(column=&#x27;category&#x27;,\n",
       "                                                                 embedder_settings={&#x27;min_count&#x27;: 3,\n",
       "                                                                                    &#x27;...\n",
       "                                                 FunctionTransformer(func=&lt;function get_row_preprocessor.&lt;locals&gt;.&lt;listcomp&gt;.&lt;lambda&gt; at 0x316382c00&gt;)),\n",
       "                                                (&#x27;scaler_amt&#x27;,\n",
       "                                                 StandardScaler()),\n",
       "                                                (&#x27;imputer_amt&#x27;,\n",
       "                                                 SimpleImputer())])),\n",
       "                               (&#x27;numeric_pipeline_city_pop&#x27;,\n",
       "                                Pipeline(steps=[(&#x27;selector_city_pop&#x27;,\n",
       "                                                 FunctionTransformer(func=&lt;function get_row_preprocessor.&lt;locals&gt;.&lt;listcomp&gt;.&lt;lambda&gt; at 0x316382ca0&gt;)),\n",
       "                                                (&#x27;scaler_city_pop&#x27;,\n",
       "                                                 StandardScaler()),\n",
       "                                                (&#x27;imputer_city_pop&#x27;,\n",
       "                                                 SimpleImputer())]))])</pre></div> </div></div><div class=\"sk-parallel\"><div class=\"sk-parallel-item\"><div class=\"sk-item\"><div class=\"sk-label-container\"><div class=\"sk-label  sk-toggleable\"><label>encoder_pipeline_merchant</label></div></div><div class=\"sk-serial\"><div class=\"sk-item\"><div class=\"sk-serial\"><div class=\"sk-item\"><div class=\"sk-estimator  sk-toggleable\"><input class=\"sk-toggleable__control sk-hidden--visually\" id=\"sk-estimator-id-13\" type=\"checkbox\" ><label for=\"sk-estimator-id-13\" class=\"sk-toggleable__label  sk-toggleable__label-arrow \">FastTextEncoder</label><div class=\"sk-toggleable__content \"><pre>FastTextEncoder(column=&#x27;merchant&#x27;,\n",
       "                embedder_settings={&#x27;min_count&#x27;: 3, &#x27;vector_size&#x27;: 3,\n",
       "                                   &#x27;window&#x27;: 5, &#x27;workers&#x27;: 4})</pre></div> </div></div></div></div></div></div></div><div class=\"sk-parallel-item\"><div class=\"sk-item\"><div class=\"sk-label-container\"><div class=\"sk-label  sk-toggleable\"><label>encoder_pipeline_category</label></div></div><div class=\"sk-serial\"><div class=\"sk-item\"><div class=\"sk-serial\"><div class=\"sk-item\"><div class=\"sk-estimator  sk-toggleable\"><input class=\"sk-toggleable__control sk-hidden--visually\" id=\"sk-estimator-id-14\" type=\"checkbox\" ><label for=\"sk-estimator-id-14\" class=\"sk-toggleable__label  sk-toggleable__label-arrow \">FastTextEncoder</label><div class=\"sk-toggleable__content \"><pre>FastTextEncoder(column=&#x27;category&#x27;,\n",
       "                embedder_settings={&#x27;min_count&#x27;: 3, &#x27;vector_size&#x27;: 3,\n",
       "                                   &#x27;window&#x27;: 5, &#x27;workers&#x27;: 4})</pre></div> </div></div></div></div></div></div></div><div class=\"sk-parallel-item\"><div class=\"sk-item\"><div class=\"sk-label-container\"><div class=\"sk-label  sk-toggleable\"><label>numeric_pipeline_amt</label></div></div><div class=\"sk-serial\"><div class=\"sk-item\"><div class=\"sk-serial\"><div class=\"sk-item\"><div class=\"sk-estimator  sk-toggleable\"><input class=\"sk-toggleable__control sk-hidden--visually\" id=\"sk-estimator-id-15\" type=\"checkbox\" ><label for=\"sk-estimator-id-15\" class=\"sk-toggleable__label  sk-toggleable__label-arrow \">&nbsp;FunctionTransformer<a class=\"sk-estimator-doc-link \" rel=\"noreferrer\" target=\"_blank\" href=\"https://scikit-learn.org/1.5/modules/generated/sklearn.preprocessing.FunctionTransformer.html\">?<span>Documentation for FunctionTransformer</span></a></label><div class=\"sk-toggleable__content \"><pre>FunctionTransformer(func=&lt;function get_row_preprocessor.&lt;locals&gt;.&lt;listcomp&gt;.&lt;lambda&gt; at 0x316382c00&gt;)</pre></div> </div></div><div class=\"sk-item\"><div class=\"sk-estimator  sk-toggleable\"><input class=\"sk-toggleable__control sk-hidden--visually\" id=\"sk-estimator-id-16\" type=\"checkbox\" ><label for=\"sk-estimator-id-16\" class=\"sk-toggleable__label  sk-toggleable__label-arrow \">&nbsp;StandardScaler<a class=\"sk-estimator-doc-link \" rel=\"noreferrer\" target=\"_blank\" href=\"https://scikit-learn.org/1.5/modules/generated/sklearn.preprocessing.StandardScaler.html\">?<span>Documentation for StandardScaler</span></a></label><div class=\"sk-toggleable__content \"><pre>StandardScaler()</pre></div> </div></div><div class=\"sk-item\"><div class=\"sk-estimator  sk-toggleable\"><input class=\"sk-toggleable__control sk-hidden--visually\" id=\"sk-estimator-id-17\" type=\"checkbox\" ><label for=\"sk-estimator-id-17\" class=\"sk-toggleable__label  sk-toggleable__label-arrow \">&nbsp;SimpleImputer<a class=\"sk-estimator-doc-link \" rel=\"noreferrer\" target=\"_blank\" href=\"https://scikit-learn.org/1.5/modules/generated/sklearn.impute.SimpleImputer.html\">?<span>Documentation for SimpleImputer</span></a></label><div class=\"sk-toggleable__content \"><pre>SimpleImputer()</pre></div> </div></div></div></div></div></div></div><div class=\"sk-parallel-item\"><div class=\"sk-item\"><div class=\"sk-label-container\"><div class=\"sk-label  sk-toggleable\"><label>numeric_pipeline_city_pop</label></div></div><div class=\"sk-serial\"><div class=\"sk-item\"><div class=\"sk-serial\"><div class=\"sk-item\"><div class=\"sk-estimator  sk-toggleable\"><input class=\"sk-toggleable__control sk-hidden--visually\" id=\"sk-estimator-id-18\" type=\"checkbox\" ><label for=\"sk-estimator-id-18\" class=\"sk-toggleable__label  sk-toggleable__label-arrow \">&nbsp;FunctionTransformer<a class=\"sk-estimator-doc-link \" rel=\"noreferrer\" target=\"_blank\" href=\"https://scikit-learn.org/1.5/modules/generated/sklearn.preprocessing.FunctionTransformer.html\">?<span>Documentation for FunctionTransformer</span></a></label><div class=\"sk-toggleable__content \"><pre>FunctionTransformer(func=&lt;function get_row_preprocessor.&lt;locals&gt;.&lt;listcomp&gt;.&lt;lambda&gt; at 0x316382ca0&gt;)</pre></div> </div></div><div class=\"sk-item\"><div class=\"sk-estimator  sk-toggleable\"><input class=\"sk-toggleable__control sk-hidden--visually\" id=\"sk-estimator-id-19\" type=\"checkbox\" ><label for=\"sk-estimator-id-19\" class=\"sk-toggleable__label  sk-toggleable__label-arrow \">&nbsp;StandardScaler<a class=\"sk-estimator-doc-link \" rel=\"noreferrer\" target=\"_blank\" href=\"https://scikit-learn.org/1.5/modules/generated/sklearn.preprocessing.StandardScaler.html\">?<span>Documentation for StandardScaler</span></a></label><div class=\"sk-toggleable__content \"><pre>StandardScaler()</pre></div> </div></div><div class=\"sk-item\"><div class=\"sk-estimator  sk-toggleable\"><input class=\"sk-toggleable__control sk-hidden--visually\" id=\"sk-estimator-id-20\" type=\"checkbox\" ><label for=\"sk-estimator-id-20\" class=\"sk-toggleable__label  sk-toggleable__label-arrow \">&nbsp;SimpleImputer<a class=\"sk-estimator-doc-link \" rel=\"noreferrer\" target=\"_blank\" href=\"https://scikit-learn.org/1.5/modules/generated/sklearn.impute.SimpleImputer.html\">?<span>Documentation for SimpleImputer</span></a></label><div class=\"sk-toggleable__content \"><pre>SimpleImputer()</pre></div> </div></div></div></div></div></div></div></div></div></div></div></div></div>"
      ],
      "text/plain": [
       "Pipeline(steps=[('combined_embeddings',\n",
       "                 FeatureUnion(n_jobs=1,\n",
       "                              transformer_list=[('encoder_pipeline_merchant',\n",
       "                                                 Pipeline(steps=[('encoder_merchant',\n",
       "                                                                  FastTextEncoder(column='merchant',\n",
       "                                                                                  embedder_settings={'min_count': 3,\n",
       "                                                                                                     'vector_size': 3,\n",
       "                                                                                                     'window': 5,\n",
       "                                                                                                     'workers': 4}))])),\n",
       "                                                ('encoder_pipeline_category',\n",
       "                                                 Pipeline(steps=[('encoder_category',\n",
       "                                                                  FastTextEncoder(column='categ...\n",
       "                                                                  FunctionTransformer(func=<function get_row_preprocessor.<locals>.<listcomp>.<lambda> at 0x316382c00>)),\n",
       "                                                                 ('scaler_amt',\n",
       "                                                                  StandardScaler()),\n",
       "                                                                 ('imputer_amt',\n",
       "                                                                  SimpleImputer())])),\n",
       "                                                ('numeric_pipeline_city_pop',\n",
       "                                                 Pipeline(steps=[('selector_city_pop',\n",
       "                                                                  FunctionTransformer(func=<function get_row_preprocessor.<locals>.<listcomp>.<lambda> at 0x316382ca0>)),\n",
       "                                                                 ('scaler_city_pop',\n",
       "                                                                  StandardScaler()),\n",
       "                                                                 ('imputer_city_pop',\n",
       "                                                                  SimpleImputer())]))]))])"
      ]
     },
     "execution_count": 6,
     "metadata": {},
     "output_type": "execute_result"
    }
   ],
   "source": [
    "preprocessor = get_row_preprocessor(cat_cols, num_cols, FAST_MODEL_SETTINGS)\n",
    "preprocessor.fit(train_data)"
   ]
  },
  {
   "cell_type": "code",
   "execution_count": 8,
   "id": "879fc9df-ba17-4ef6-b84d-533f0433bd2e",
   "metadata": {},
   "outputs": [
    {
     "data": {
      "text/html": [
       "<pre style=\"white-space:pre;overflow-x:auto;line-height:normal;font-family:Menlo,'DejaVu Sans Mono',consolas,'Courier New',monospace\"></pre>\n"
      ],
      "text/plain": []
     },
     "metadata": {},
     "output_type": "display_data"
    },
    {
     "data": {
      "text/plain": [
       "\n",
       "\u001b[1;35marray\u001b[0m\u001b[1m(\u001b[0m\u001b[1m[\u001b[0m\u001b[1m[\u001b[0m\u001b[32m'-0.014516915 0.0045382995 0.014889569'\u001b[0m,\n",
       "        \u001b[32m'0.017116437 -0.082998045 0.0573985'\u001b[0m,\n",
       "        \u001b[32m'0.060293645 0.078404866 0.019872919'\u001b[0m,\n",
       "        \u001b[32m'-0.04159637 0.043534033 -0.0540257'\u001b[0m,\n",
       "        \u001b[32m'-0.002666257 0.024426937 -0.033753067'\u001b[0m, \u001b[1;36m-0.29084700339951247\u001b[0m,\n",
       "        \u001b[1;36m-0.29084700339951247\u001b[0m\u001b[1m]\u001b[0m,\n",
       "       \u001b[1m[\u001b[0m\u001b[32m'-0.08941088 0.059118245 0.04565257'\u001b[0m,\n",
       "        \u001b[32m'-0.030436808 -0.015588927 -0.07261914'\u001b[0m,\n",
       "        \u001b[32m'0.060293645 0.078404866 0.019872919'\u001b[0m,\n",
       "        \u001b[32m'0.011420587 -0.041980065 0.07569261'\u001b[0m,\n",
       "        \u001b[32m'0.0070926007 0.005174372 -0.017350368'\u001b[0m, \u001b[1;36m-0.29084700339951247\u001b[0m,\n",
       "        \u001b[1;36m-0.29084700339951247\u001b[0m\u001b[1m]\u001b[0m\u001b[1m]\u001b[0m, \u001b[33mdtype\u001b[0m=\u001b[35mobject\u001b[0m\u001b[1m)\u001b[0m"
      ]
     },
     "execution_count": 8,
     "metadata": {},
     "output_type": "execute_result"
    }
   ],
   "source": [
    "preprocessor.transform(train_data.loc[:1,:])"
   ]
  },
  {
   "cell_type": "code",
   "execution_count": 10,
   "id": "1f6d8a37-66a6-4d4b-aacd-0b92788949b0",
   "metadata": {},
   "outputs": [
    {
     "data": {
      "text/html": [
       "<pre style=\"white-space:pre;overflow-x:auto;line-height:normal;font-family:Menlo,'DejaVu Sans Mono',consolas,'Courier New',monospace\"></pre>\n"
      ],
      "text/plain": []
     },
     "metadata": {},
     "output_type": "display_data"
    },
    {
     "data": {
      "text/plain": [
       "\n",
       "\u001b[1;35marray\u001b[0m\u001b[1m(\u001b[0m\u001b[1m[\u001b[0m\u001b[1m[\u001b[0m \u001b[1;36m0.01186388\u001b[0m,  \u001b[1;36m0.65973073\u001b[0m,  \u001b[1;36m0.2925068\u001b[0m , \u001b[1;36m-0.697257\u001b[0m  ,  \u001b[1;36m1.3188564\u001b[0m ,\n",
       "        \u001b[1;36m-1.4537454\u001b[0m ,  \u001b[1;36m0.11684387\u001b[0m,  \u001b[1;36m0.34552673\u001b[0m,  \u001b[1;36m0.22169577\u001b[0m, \u001b[1;36m-4.270455\u001b[0m  ,\n",
       "         \u001b[1;36m1.4948568\u001b[0m , \u001b[1;36m-1.6351305\u001b[0m ,  \u001b[1;36m0\u001b[0m.        ,  \u001b[1;36m0\u001b[0m.        ,  \u001b[1;36m0\u001b[0m.        ,\n",
       "        \u001b[1;36m-4.2094793\u001b[0m , \u001b[1;36m-0.14198299\u001b[0m,  \u001b[1;36m2.458057\u001b[0m  ,  \u001b[1;36m0\u001b[0m.        ,  \u001b[1;36m0\u001b[0m.        ,\n",
       "         \u001b[1;36m0\u001b[0m.        \u001b[1m]\u001b[0m,\n",
       "       \u001b[1m[\u001b[0m\u001b[1;36m-4.312101\u001b[0m  ,  \u001b[1;36m0.577466\u001b[0m  ,  \u001b[1;36m0.89631134\u001b[0m, \u001b[1;36m-1.0290817\u001b[0m ,  \u001b[1;36m0.08379973\u001b[0m,\n",
       "         \u001b[1;36m2.5354154\u001b[0m ,  \u001b[1;36m0.11684387\u001b[0m,  \u001b[1;36m0.34552673\u001b[0m,  \u001b[1;36m0.22169577\u001b[0m, \u001b[1;36m-1.841812\u001b[0m  ,\n",
       "         \u001b[1;36m0.08542699\u001b[0m,  \u001b[1;36m2.4859686\u001b[0m ,  \u001b[1;36m0\u001b[0m.        ,  \u001b[1;36m0\u001b[0m.        ,  \u001b[1;36m0\u001b[0m.        ,\n",
       "        \u001b[1;36m-1.4693879\u001b[0m ,  \u001b[1;36m5.735981\u001b[0m  , \u001b[1;36m-2.3756335\u001b[0m , \u001b[1;36m-2.6593707\u001b[0m ,  \u001b[1;36m3.287538\u001b[0m  ,\n",
       "         \u001b[1;36m4.196274\u001b[0m  \u001b[1m]\u001b[0m\u001b[1m]\u001b[0m, \u001b[33mdtype\u001b[0m=\u001b[35mfloat32\u001b[0m\u001b[1m)\u001b[0m"
      ]
     },
     "execution_count": 10,
     "metadata": {},
     "output_type": "execute_result"
    }
   ],
   "source": [
    "embedder_settings = {\n",
    "    \"vector_size\": 3,\n",
    "    \"window\": 5,\n",
    "    \"min_count\": 3,\n",
    "    \"workers\": 4,\n",
    "}\n",
    "\n",
    "cat_columns = [\"merchant\", \"category\"]\n",
    "\n",
    "preprocessor = get_row_preprocessor(cat_columns, embedder_settings)\n",
    "\n",
    "# Assuming df is your DataFrame with the columns \"column1\" and \"column2\"\n",
    "preprocessor = preprocessor.fit(train_data)\n",
    "preprocessor.transform(train_data.loc[:1,:])"
   ]
  },
  {
   "cell_type": "code",
   "execution_count": 8,
   "id": "3b74d98b-5a53-45b5-ab16-00e2b48bd911",
   "metadata": {},
   "outputs": [
    {
     "data": {
      "text/html": [
       "<pre style=\"white-space:pre;overflow-x:auto;line-height:normal;font-family:Menlo,'DejaVu Sans Mono',consolas,'Courier New',monospace\"></pre>\n"
      ],
      "text/plain": []
     },
     "metadata": {},
     "output_type": "display_data"
    },
    {
     "data": {
      "text/plain": [
       "\n",
       "\u001b[1;35marray\u001b[0m\u001b[1m(\u001b[0m\u001b[1m[\u001b[0m\u001b[1m[\u001b[0m \u001b[1;36m1.1939244\u001b[0m ,  \u001b[1;36m0.8178266\u001b[0m ,  \u001b[1;36m1.1012037\u001b[0m ,  \u001b[1;36m0.7147421\u001b[0m ,  \u001b[1;36m0.53418845\u001b[0m,\n",
       "        \u001b[1;36m-0.14989288\u001b[0m,  \u001b[1;36m3.3618038\u001b[0m ,  \u001b[1;36m3.6822762\u001b[0m ,  \u001b[1;36m0\u001b[0m.        ,  \u001b[1;36m0\u001b[0m.        ,\n",
       "         \u001b[1;36m3.2463214\u001b[0m ,  \u001b[1;36m0.32967222\u001b[0m,  \u001b[1;36m0\u001b[0m.        ,  \u001b[1;36m0\u001b[0m.        \u001b[1m]\u001b[0m,\n",
       "       \u001b[1m[\u001b[0m \u001b[1;36m0.35501963\u001b[0m, \u001b[1;36m-2.221231\u001b[0m  ,  \u001b[1;36m0.70940423\u001b[0m, \u001b[1;36m-0.7026621\u001b[0m ,  \u001b[1;36m0.53418845\u001b[0m,\n",
       "        \u001b[1;36m-0.14989288\u001b[0m,  \u001b[1;36m0.57608044\u001b[0m, \u001b[1;36m-0.2750211\u001b[0m ,  \u001b[1;36m0\u001b[0m.        ,  \u001b[1;36m0\u001b[0m.        ,\n",
       "        \u001b[1;36m-0.61291796\u001b[0m,  \u001b[1;36m6.4386973\u001b[0m ,  \u001b[1;36m4.7903857\u001b[0m ,  \u001b[1;36m1.1592278\u001b[0m \u001b[1m]\u001b[0m\u001b[1m]\u001b[0m,\n",
       "      \u001b[33mdtype\u001b[0m=\u001b[35mfloat32\u001b[0m\u001b[1m)\u001b[0m"
      ]
     },
     "execution_count": 8,
     "metadata": {},
     "output_type": "execute_result"
    }
   ],
   "source": [
    "preprocessor.transform(train_data.loc[:1])\n"
   ]
  },
  {
   "cell_type": "code",
   "execution_count": null,
   "id": "1f51dc4a-e8b5-46d2-8dcc-7255a7bbc834",
   "metadata": {},
   "outputs": [],
   "source": [
    "columns = [\"merchant\", \"category\"]\n",
    "text_embedders = []\n",
    "for col in columns:\n",
    "    _embedder = TextEmbedder(train_data[col], fast_model_settings)\n",
    "    text_embedders.append(_embedder)"
   ]
  },
  {
   "cell_type": "code",
   "execution_count": 6,
   "id": "610a5d26-ad61-43e3-a3a3-588b29aa0b3f",
   "metadata": {},
   "outputs": [
    {
     "data": {
      "text/html": [
       "<pre style=\"white-space:pre;overflow-x:auto;line-height:normal;font-family:Menlo,'DejaVu Sans Mono',consolas,'Courier New',monospace\"></pre>\n"
      ],
      "text/plain": []
     },
     "metadata": {},
     "output_type": "display_data"
    },
    {
     "data": {
      "text/plain": [
       "\u001b[1;35marray\u001b[0m\u001b[1m(\u001b[0m\u001b[1m[\u001b[0m\u001b[1;36m0\u001b[0m, \u001b[1;36m1\u001b[0m, \u001b[1;36m2\u001b[0m, \u001b[1;36m3\u001b[0m\u001b[1m]\u001b[0m\u001b[1m)\u001b[0m"
      ]
     },
     "execution_count": 6,
     "metadata": {},
     "output_type": "execute_result"
    }
   ],
   "source": [
    "import numpy as np\n",
    "from sklearn.preprocessing import FunctionTransformer\n",
    "transformer = FunctionTransformer(np.reshape, kw_args={\"newshape\": (-1,)})\n",
    "X = np.array([[0, 1], [2, 3]])\n",
    "transformer.transform(X)"
   ]
  },
  {
   "cell_type": "code",
   "execution_count": 11,
   "id": "20be688c-f768-4674-bab2-e9bcf965d440",
   "metadata": {},
   "outputs": [],
   "source": [
    "from sklearn.impute import SimpleImputer"
   ]
  },
  {
   "cell_type": "code",
   "execution_count": null,
   "id": "a55c844c-65fa-40e0-809f-d99ead0cf22e",
   "metadata": {},
   "outputs": [],
   "source": []
  }
 ],
 "metadata": {
  "kernelspec": {
   "display_name": "Kedro (fraud_detection)",
   "language": "python",
   "name": "kedro_fraud_detection"
  },
  "language_info": {
   "codemirror_mode": {
    "name": "ipython",
    "version": 3
   },
   "file_extension": ".py",
   "mimetype": "text/x-python",
   "name": "python",
   "nbconvert_exporter": "python",
   "pygments_lexer": "ipython3",
   "version": "3.11.5"
  }
 },
 "nbformat": 4,
 "nbformat_minor": 5
}
