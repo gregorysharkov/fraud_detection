{
 "cells": [
  {
   "cell_type": "markdown",
   "metadata": {},
   "source": [
    "# EDA of the elliptic dataset"
   ]
  },
  {
   "cell_type": "code",
   "execution_count": 1,
   "metadata": {},
   "outputs": [],
   "source": [
    "from pathlib import Path\n",
    "import pandas as pd"
   ]
  },
  {
   "cell_type": "code",
   "execution_count": 2,
   "metadata": {},
   "outputs": [],
   "source": [
    "data_path = Path(\"../data/01_raw/elliptic_btc/BTC/\")\n",
    "labels = pd.read_csv(data_path / \"elliptic_txs_classes.csv\")\n",
    "labels[\"class\"] = labels[\"class\"].map({\"unknown\": 0, \"0\": 1, \"2\": 2})\n",
    "edges = pd.read_csv(data_path / \"elliptic_txs_edgelist.csv\")\n",
    "features = pd.read_csv(data_path / \"elliptic_txs_features.csv\", header=None)\n",
    "features.columns = [\"txId\", *[f\"F{i}\" for i in features.columns[1:]]]"
   ]
  },
  {
   "cell_type": "code",
   "execution_count": 3,
   "metadata": {},
   "outputs": [
    {
     "name": "stdout",
     "output_type": "stream",
     "text": [
      "Shapes\n",
      "\tFeatures :  203,769 (rows)   167 (cols)\n",
      "\tClasses  :  203,769 (rows)     2 (cols)\n",
      "\tEdgelist :  234,355 (rows)     2 (cols)\n",
      "\n"
     ]
    }
   ],
   "source": [
    "print(\n",
    "    f\"\"\"Shapes\n",
    "\\tFeatures : {features.shape[0]:8,} (rows)  {features.shape[1]:4,} (cols)\n",
    "\\tClasses  : {labels.shape[0]:8,} (rows)  {labels.shape[1]:4,} (cols)\n",
    "\\tEdgelist : {edges.shape[0]:8,} (rows)  {edges.shape[1]:4,} (cols)\n",
    "\"\"\"\n",
    ")"
   ]
  },
  {
   "cell_type": "code",
   "execution_count": 4,
   "metadata": {},
   "outputs": [
    {
     "data": {
      "text/html": [
       "<div>\n",
       "<style scoped>\n",
       "    .dataframe tbody tr th:only-of-type {\n",
       "        vertical-align: middle;\n",
       "    }\n",
       "\n",
       "    .dataframe tbody tr th {\n",
       "        vertical-align: top;\n",
       "    }\n",
       "\n",
       "    .dataframe thead th {\n",
       "        text-align: right;\n",
       "    }\n",
       "</style>\n",
       "<table border=\"1\" class=\"dataframe\">\n",
       "  <thead>\n",
       "    <tr style=\"text-align: right;\">\n",
       "      <th></th>\n",
       "      <th>txId</th>\n",
       "      <th>class</th>\n",
       "    </tr>\n",
       "  </thead>\n",
       "  <tbody>\n",
       "    <tr>\n",
       "      <th>0</th>\n",
       "      <td>230425980</td>\n",
       "      <td>0.0</td>\n",
       "    </tr>\n",
       "    <tr>\n",
       "      <th>1</th>\n",
       "      <td>5530458</td>\n",
       "      <td>0.0</td>\n",
       "    </tr>\n",
       "    <tr>\n",
       "      <th>2</th>\n",
       "      <td>232022460</td>\n",
       "      <td>0.0</td>\n",
       "    </tr>\n",
       "    <tr>\n",
       "      <th>3</th>\n",
       "      <td>232438397</td>\n",
       "      <td>2.0</td>\n",
       "    </tr>\n",
       "    <tr>\n",
       "      <th>4</th>\n",
       "      <td>230460314</td>\n",
       "      <td>0.0</td>\n",
       "    </tr>\n",
       "  </tbody>\n",
       "</table>\n",
       "</div>"
      ],
      "text/plain": [
       "        txId  class\n",
       "0  230425980    0.0\n",
       "1    5530458    0.0\n",
       "2  232022460    0.0\n",
       "3  232438397    2.0\n",
       "4  230460314    0.0"
      ]
     },
     "execution_count": 4,
     "metadata": {},
     "output_type": "execute_result"
    }
   ],
   "source": [
    "labels.head()"
   ]
  },
  {
   "cell_type": "code",
   "execution_count": 5,
   "metadata": {},
   "outputs": [
    {
     "data": {
      "text/plain": [
       "class\n",
       "0.0    157205\n",
       "2.0     42019\n",
       "Name: count, dtype: int64"
      ]
     },
     "execution_count": 5,
     "metadata": {},
     "output_type": "execute_result"
    }
   ],
   "source": [
    "labels[\"class\"].value_counts()"
   ]
  },
  {
   "cell_type": "code",
   "execution_count": 6,
   "metadata": {},
   "outputs": [
    {
     "data": {
      "text/html": [
       "<div>\n",
       "<style scoped>\n",
       "    .dataframe tbody tr th:only-of-type {\n",
       "        vertical-align: middle;\n",
       "    }\n",
       "\n",
       "    .dataframe tbody tr th {\n",
       "        vertical-align: top;\n",
       "    }\n",
       "\n",
       "    .dataframe thead th {\n",
       "        text-align: right;\n",
       "    }\n",
       "</style>\n",
       "<table border=\"1\" class=\"dataframe\">\n",
       "  <thead>\n",
       "    <tr style=\"text-align: right;\">\n",
       "      <th></th>\n",
       "      <th>txId1</th>\n",
       "      <th>txId2</th>\n",
       "    </tr>\n",
       "  </thead>\n",
       "  <tbody>\n",
       "    <tr>\n",
       "      <th>0</th>\n",
       "      <td>230425980</td>\n",
       "      <td>5530458</td>\n",
       "    </tr>\n",
       "    <tr>\n",
       "      <th>1</th>\n",
       "      <td>232022460</td>\n",
       "      <td>232438397</td>\n",
       "    </tr>\n",
       "    <tr>\n",
       "      <th>2</th>\n",
       "      <td>230460314</td>\n",
       "      <td>230459870</td>\n",
       "    </tr>\n",
       "    <tr>\n",
       "      <th>3</th>\n",
       "      <td>230333930</td>\n",
       "      <td>230595899</td>\n",
       "    </tr>\n",
       "    <tr>\n",
       "      <th>4</th>\n",
       "      <td>232013274</td>\n",
       "      <td>232029206</td>\n",
       "    </tr>\n",
       "  </tbody>\n",
       "</table>\n",
       "</div>"
      ],
      "text/plain": [
       "       txId1      txId2\n",
       "0  230425980    5530458\n",
       "1  232022460  232438397\n",
       "2  230460314  230459870\n",
       "3  230333930  230595899\n",
       "4  232013274  232029206"
      ]
     },
     "execution_count": 6,
     "metadata": {},
     "output_type": "execute_result"
    }
   ],
   "source": [
    "edges.head()"
   ]
  },
  {
   "cell_type": "code",
   "execution_count": 7,
   "metadata": {},
   "outputs": [
    {
     "data": {
      "text/html": [
       "<div>\n",
       "<style scoped>\n",
       "    .dataframe tbody tr th:only-of-type {\n",
       "        vertical-align: middle;\n",
       "    }\n",
       "\n",
       "    .dataframe tbody tr th {\n",
       "        vertical-align: top;\n",
       "    }\n",
       "\n",
       "    .dataframe thead th {\n",
       "        text-align: right;\n",
       "    }\n",
       "</style>\n",
       "<table border=\"1\" class=\"dataframe\">\n",
       "  <thead>\n",
       "    <tr style=\"text-align: right;\">\n",
       "      <th></th>\n",
       "      <th>txId</th>\n",
       "      <th>F1</th>\n",
       "      <th>F2</th>\n",
       "      <th>F3</th>\n",
       "      <th>F4</th>\n",
       "      <th>F5</th>\n",
       "      <th>F6</th>\n",
       "      <th>F7</th>\n",
       "      <th>F8</th>\n",
       "      <th>F9</th>\n",
       "      <th>...</th>\n",
       "      <th>F157</th>\n",
       "      <th>F158</th>\n",
       "      <th>F159</th>\n",
       "      <th>F160</th>\n",
       "      <th>F161</th>\n",
       "      <th>F162</th>\n",
       "      <th>F163</th>\n",
       "      <th>F164</th>\n",
       "      <th>F165</th>\n",
       "      <th>F166</th>\n",
       "    </tr>\n",
       "  </thead>\n",
       "  <tbody>\n",
       "    <tr>\n",
       "      <th>0</th>\n",
       "      <td>230425980</td>\n",
       "      <td>1</td>\n",
       "      <td>-0.171469</td>\n",
       "      <td>-0.184668</td>\n",
       "      <td>-1.201369</td>\n",
       "      <td>-0.121970</td>\n",
       "      <td>-0.043875</td>\n",
       "      <td>-0.113002</td>\n",
       "      <td>-0.061584</td>\n",
       "      <td>-0.162097</td>\n",
       "      <td>...</td>\n",
       "      <td>-0.562153</td>\n",
       "      <td>-0.600999</td>\n",
       "      <td>1.461330</td>\n",
       "      <td>1.461369</td>\n",
       "      <td>0.018279</td>\n",
       "      <td>-0.087490</td>\n",
       "      <td>-0.131155</td>\n",
       "      <td>-0.097524</td>\n",
       "      <td>-0.120613</td>\n",
       "      <td>-0.119792</td>\n",
       "    </tr>\n",
       "    <tr>\n",
       "      <th>1</th>\n",
       "      <td>5530458</td>\n",
       "      <td>1</td>\n",
       "      <td>-0.171484</td>\n",
       "      <td>-0.184668</td>\n",
       "      <td>-1.201369</td>\n",
       "      <td>-0.121970</td>\n",
       "      <td>-0.043875</td>\n",
       "      <td>-0.113002</td>\n",
       "      <td>-0.061584</td>\n",
       "      <td>-0.162112</td>\n",
       "      <td>...</td>\n",
       "      <td>0.947382</td>\n",
       "      <td>0.673103</td>\n",
       "      <td>-0.979074</td>\n",
       "      <td>-0.978556</td>\n",
       "      <td>0.018279</td>\n",
       "      <td>-0.087490</td>\n",
       "      <td>-0.131155</td>\n",
       "      <td>-0.097524</td>\n",
       "      <td>-0.120613</td>\n",
       "      <td>-0.119792</td>\n",
       "    </tr>\n",
       "    <tr>\n",
       "      <th>2</th>\n",
       "      <td>232022460</td>\n",
       "      <td>1</td>\n",
       "      <td>-0.172107</td>\n",
       "      <td>-0.184668</td>\n",
       "      <td>-1.201369</td>\n",
       "      <td>-0.121970</td>\n",
       "      <td>-0.043875</td>\n",
       "      <td>-0.113002</td>\n",
       "      <td>-0.061584</td>\n",
       "      <td>-0.162749</td>\n",
       "      <td>...</td>\n",
       "      <td>0.670883</td>\n",
       "      <td>0.439728</td>\n",
       "      <td>-0.979074</td>\n",
       "      <td>-0.978556</td>\n",
       "      <td>-0.098889</td>\n",
       "      <td>-0.106715</td>\n",
       "      <td>-0.131155</td>\n",
       "      <td>-0.183671</td>\n",
       "      <td>-0.120613</td>\n",
       "      <td>-0.119792</td>\n",
       "    </tr>\n",
       "    <tr>\n",
       "      <th>3</th>\n",
       "      <td>232438397</td>\n",
       "      <td>1</td>\n",
       "      <td>0.163054</td>\n",
       "      <td>1.963790</td>\n",
       "      <td>-0.646376</td>\n",
       "      <td>12.409294</td>\n",
       "      <td>-0.063725</td>\n",
       "      <td>9.782742</td>\n",
       "      <td>12.414558</td>\n",
       "      <td>-0.163645</td>\n",
       "      <td>...</td>\n",
       "      <td>-0.577099</td>\n",
       "      <td>-0.613614</td>\n",
       "      <td>0.241128</td>\n",
       "      <td>0.241406</td>\n",
       "      <td>1.072793</td>\n",
       "      <td>0.085530</td>\n",
       "      <td>-0.131155</td>\n",
       "      <td>0.677799</td>\n",
       "      <td>-0.120613</td>\n",
       "      <td>-0.119792</td>\n",
       "    </tr>\n",
       "    <tr>\n",
       "      <th>4</th>\n",
       "      <td>230460314</td>\n",
       "      <td>1</td>\n",
       "      <td>1.011523</td>\n",
       "      <td>-0.081127</td>\n",
       "      <td>-1.201369</td>\n",
       "      <td>1.153668</td>\n",
       "      <td>0.333276</td>\n",
       "      <td>1.312656</td>\n",
       "      <td>-0.061584</td>\n",
       "      <td>-0.163523</td>\n",
       "      <td>...</td>\n",
       "      <td>-0.511871</td>\n",
       "      <td>-0.400422</td>\n",
       "      <td>0.517257</td>\n",
       "      <td>0.579382</td>\n",
       "      <td>0.018279</td>\n",
       "      <td>0.277775</td>\n",
       "      <td>0.326394</td>\n",
       "      <td>1.293750</td>\n",
       "      <td>0.178136</td>\n",
       "      <td>0.179117</td>\n",
       "    </tr>\n",
       "  </tbody>\n",
       "</table>\n",
       "<p>5 rows × 167 columns</p>\n",
       "</div>"
      ],
      "text/plain": [
       "        txId  F1        F2        F3        F4         F5        F6        F7  \\\n",
       "0  230425980   1 -0.171469 -0.184668 -1.201369  -0.121970 -0.043875 -0.113002   \n",
       "1    5530458   1 -0.171484 -0.184668 -1.201369  -0.121970 -0.043875 -0.113002   \n",
       "2  232022460   1 -0.172107 -0.184668 -1.201369  -0.121970 -0.043875 -0.113002   \n",
       "3  232438397   1  0.163054  1.963790 -0.646376  12.409294 -0.063725  9.782742   \n",
       "4  230460314   1  1.011523 -0.081127 -1.201369   1.153668  0.333276  1.312656   \n",
       "\n",
       "          F8        F9  ...      F157      F158      F159      F160      F161  \\\n",
       "0  -0.061584 -0.162097  ... -0.562153 -0.600999  1.461330  1.461369  0.018279   \n",
       "1  -0.061584 -0.162112  ...  0.947382  0.673103 -0.979074 -0.978556  0.018279   \n",
       "2  -0.061584 -0.162749  ...  0.670883  0.439728 -0.979074 -0.978556 -0.098889   \n",
       "3  12.414558 -0.163645  ... -0.577099 -0.613614  0.241128  0.241406  1.072793   \n",
       "4  -0.061584 -0.163523  ... -0.511871 -0.400422  0.517257  0.579382  0.018279   \n",
       "\n",
       "       F162      F163      F164      F165      F166  \n",
       "0 -0.087490 -0.131155 -0.097524 -0.120613 -0.119792  \n",
       "1 -0.087490 -0.131155 -0.097524 -0.120613 -0.119792  \n",
       "2 -0.106715 -0.131155 -0.183671 -0.120613 -0.119792  \n",
       "3  0.085530 -0.131155  0.677799 -0.120613 -0.119792  \n",
       "4  0.277775  0.326394  1.293750  0.178136  0.179117  \n",
       "\n",
       "[5 rows x 167 columns]"
      ]
     },
     "execution_count": 7,
     "metadata": {},
     "output_type": "execute_result"
    }
   ],
   "source": [
    "features.head()"
   ]
  },
  {
   "cell_type": "code",
   "execution_count": 8,
   "metadata": {},
   "outputs": [
    {
     "data": {
      "text/html": [
       "<div>\n",
       "<style scoped>\n",
       "    .dataframe tbody tr th:only-of-type {\n",
       "        vertical-align: middle;\n",
       "    }\n",
       "\n",
       "    .dataframe tbody tr th {\n",
       "        vertical-align: top;\n",
       "    }\n",
       "\n",
       "    .dataframe thead th {\n",
       "        text-align: right;\n",
       "    }\n",
       "</style>\n",
       "<table border=\"1\" class=\"dataframe\">\n",
       "  <thead>\n",
       "    <tr style=\"text-align: right;\">\n",
       "      <th></th>\n",
       "      <th>txId</th>\n",
       "      <th>F1</th>\n",
       "      <th>F2</th>\n",
       "      <th>F3</th>\n",
       "      <th>F4</th>\n",
       "      <th>F5</th>\n",
       "      <th>F6</th>\n",
       "      <th>F7</th>\n",
       "      <th>F8</th>\n",
       "      <th>F9</th>\n",
       "      <th>...</th>\n",
       "      <th>F157</th>\n",
       "      <th>F158</th>\n",
       "      <th>F159</th>\n",
       "      <th>F160</th>\n",
       "      <th>F161</th>\n",
       "      <th>F162</th>\n",
       "      <th>F163</th>\n",
       "      <th>F164</th>\n",
       "      <th>F165</th>\n",
       "      <th>F166</th>\n",
       "    </tr>\n",
       "  </thead>\n",
       "  <tbody>\n",
       "    <tr>\n",
       "      <th>count</th>\n",
       "      <td>2.037690e+05</td>\n",
       "      <td>203769.000000</td>\n",
       "      <td>2.037690e+05</td>\n",
       "      <td>2.037690e+05</td>\n",
       "      <td>2.037690e+05</td>\n",
       "      <td>2.037690e+05</td>\n",
       "      <td>2.037690e+05</td>\n",
       "      <td>2.037690e+05</td>\n",
       "      <td>2.037690e+05</td>\n",
       "      <td>2.037690e+05</td>\n",
       "      <td>...</td>\n",
       "      <td>2.037690e+05</td>\n",
       "      <td>2.037690e+05</td>\n",
       "      <td>2.037690e+05</td>\n",
       "      <td>2.037690e+05</td>\n",
       "      <td>2.037690e+05</td>\n",
       "      <td>2.037690e+05</td>\n",
       "      <td>2.037690e+05</td>\n",
       "      <td>2.037690e+05</td>\n",
       "      <td>2.037690e+05</td>\n",
       "      <td>2.037690e+05</td>\n",
       "    </tr>\n",
       "    <tr>\n",
       "      <th>mean</th>\n",
       "      <td>1.711310e+08</td>\n",
       "      <td>23.843961</td>\n",
       "      <td>2.231681e-17</td>\n",
       "      <td>-7.531922e-18</td>\n",
       "      <td>2.231681e-17</td>\n",
       "      <td>6.213836e-17</td>\n",
       "      <td>7.570279e-17</td>\n",
       "      <td>5.802370e-17</td>\n",
       "      <td>3.068561e-17</td>\n",
       "      <td>3.570689e-17</td>\n",
       "      <td>...</td>\n",
       "      <td>-2.956977e-17</td>\n",
       "      <td>1.657023e-16</td>\n",
       "      <td>-7.225066e-17</td>\n",
       "      <td>7.476130e-17</td>\n",
       "      <td>-4.658634e-17</td>\n",
       "      <td>2.231681e-18</td>\n",
       "      <td>5.021282e-17</td>\n",
       "      <td>1.562177e-17</td>\n",
       "      <td>4.072817e-17</td>\n",
       "      <td>5.913954e-17</td>\n",
       "    </tr>\n",
       "    <tr>\n",
       "      <th>std</th>\n",
       "      <td>1.104655e+08</td>\n",
       "      <td>15.172170</td>\n",
       "      <td>1.000002e+00</td>\n",
       "      <td>1.000002e+00</td>\n",
       "      <td>1.000002e+00</td>\n",
       "      <td>1.000002e+00</td>\n",
       "      <td>1.000002e+00</td>\n",
       "      <td>1.000002e+00</td>\n",
       "      <td>1.000002e+00</td>\n",
       "      <td>1.000002e+00</td>\n",
       "      <td>...</td>\n",
       "      <td>1.000002e+00</td>\n",
       "      <td>1.000002e+00</td>\n",
       "      <td>1.000002e+00</td>\n",
       "      <td>1.000002e+00</td>\n",
       "      <td>1.000002e+00</td>\n",
       "      <td>1.000002e+00</td>\n",
       "      <td>1.000002e+00</td>\n",
       "      <td>1.000002e+00</td>\n",
       "      <td>1.000002e+00</td>\n",
       "      <td>1.000002e+00</td>\n",
       "    </tr>\n",
       "    <tr>\n",
       "      <th>min</th>\n",
       "      <td>1.076000e+03</td>\n",
       "      <td>1.000000</td>\n",
       "      <td>-1.729826e-01</td>\n",
       "      <td>-2.105526e-01</td>\n",
       "      <td>-1.756361e+00</td>\n",
       "      <td>-1.219696e-01</td>\n",
       "      <td>-6.372457e-02</td>\n",
       "      <td>-1.130020e-01</td>\n",
       "      <td>-6.158379e-02</td>\n",
       "      <td>-1.636459e-01</td>\n",
       "      <td>...</td>\n",
       "      <td>-5.770994e-01</td>\n",
       "      <td>-6.262286e-01</td>\n",
       "      <td>-9.790738e-01</td>\n",
       "      <td>-9.785560e-01</td>\n",
       "      <td>-2.160569e-01</td>\n",
       "      <td>-1.259391e-01</td>\n",
       "      <td>-1.311553e-01</td>\n",
       "      <td>-2.698175e-01</td>\n",
       "      <td>-1.760926e+00</td>\n",
       "      <td>-1.760984e+00</td>\n",
       "    </tr>\n",
       "    <tr>\n",
       "      <th>25%</th>\n",
       "      <td>8.433452e+07</td>\n",
       "      <td>9.000000</td>\n",
       "      <td>-1.725317e-01</td>\n",
       "      <td>-1.803266e-01</td>\n",
       "      <td>-1.201369e+00</td>\n",
       "      <td>-1.219696e-01</td>\n",
       "      <td>-4.387455e-02</td>\n",
       "      <td>-1.130020e-01</td>\n",
       "      <td>-6.158379e-02</td>\n",
       "      <td>-1.635168e-01</td>\n",
       "      <td>...</td>\n",
       "      <td>-5.696264e-01</td>\n",
       "      <td>-5.946915e-01</td>\n",
       "      <td>-9.790738e-01</td>\n",
       "      <td>-9.785560e-01</td>\n",
       "      <td>-9.888874e-02</td>\n",
       "      <td>-8.749016e-02</td>\n",
       "      <td>-1.311553e-01</td>\n",
       "      <td>-1.405971e-01</td>\n",
       "      <td>-1.206134e-01</td>\n",
       "      <td>-1.197925e-01</td>\n",
       "    </tr>\n",
       "    <tr>\n",
       "      <th>50%</th>\n",
       "      <td>1.624375e+08</td>\n",
       "      <td>23.000000</td>\n",
       "      <td>-1.692045e-01</td>\n",
       "      <td>-1.328975e-01</td>\n",
       "      <td>4.636092e-01</td>\n",
       "      <td>-1.219696e-01</td>\n",
       "      <td>-4.387455e-02</td>\n",
       "      <td>-1.130020e-01</td>\n",
       "      <td>-6.158379e-02</td>\n",
       "      <td>-1.620440e-01</td>\n",
       "      <td>...</td>\n",
       "      <td>-4.799511e-01</td>\n",
       "      <td>-4.559278e-01</td>\n",
       "      <td>2.411283e-01</td>\n",
       "      <td>2.414064e-01</td>\n",
       "      <td>1.827940e-02</td>\n",
       "      <td>-8.749016e-02</td>\n",
       "      <td>-1.311553e-01</td>\n",
       "      <td>-9.752359e-02</td>\n",
       "      <td>-1.206134e-01</td>\n",
       "      <td>-1.197925e-01</td>\n",
       "    </tr>\n",
       "    <tr>\n",
       "      <th>75%</th>\n",
       "      <td>2.454798e+08</td>\n",
       "      <td>38.000000</td>\n",
       "      <td>-1.318553e-01</td>\n",
       "      <td>-5.524241e-02</td>\n",
       "      <td>1.018602e+00</td>\n",
       "      <td>-1.219696e-01</td>\n",
       "      <td>-4.387455e-02</td>\n",
       "      <td>-1.130020e-01</td>\n",
       "      <td>-6.158379e-02</td>\n",
       "      <td>-1.355932e-01</td>\n",
       "      <td>...</td>\n",
       "      <td>1.552495e-01</td>\n",
       "      <td>1.212026e-01</td>\n",
       "      <td>1.305594e+00</td>\n",
       "      <td>1.398764e+00</td>\n",
       "      <td>1.827940e-02</td>\n",
       "      <td>-8.749016e-02</td>\n",
       "      <td>-8.467423e-02</td>\n",
       "      <td>-9.752359e-02</td>\n",
       "      <td>1.520067e-01</td>\n",
       "      <td>1.199710e-01</td>\n",
       "    </tr>\n",
       "    <tr>\n",
       "      <th>max</th>\n",
       "      <td>4.032446e+08</td>\n",
       "      <td>49.000000</td>\n",
       "      <td>7.168197e+01</td>\n",
       "      <td>7.359505e+01</td>\n",
       "      <td>2.683580e+00</td>\n",
       "      <td>4.902760e+01</td>\n",
       "      <td>2.600907e+02</td>\n",
       "      <td>5.456518e+01</td>\n",
       "      <td>1.134409e+02</td>\n",
       "      <td>7.335457e+01</td>\n",
       "      <td>...</td>\n",
       "      <td>7.862953e+00</td>\n",
       "      <td>7.914041e+00</td>\n",
       "      <td>1.461330e+00</td>\n",
       "      <td>1.461369e+00</td>\n",
       "      <td>1.170692e+02</td>\n",
       "      <td>2.518490e+02</td>\n",
       "      <td>2.387835e+02</td>\n",
       "      <td>1.057340e+02</td>\n",
       "      <td>1.519700e+00</td>\n",
       "      <td>1.521399e+00</td>\n",
       "    </tr>\n",
       "  </tbody>\n",
       "</table>\n",
       "<p>8 rows × 167 columns</p>\n",
       "</div>"
      ],
      "text/plain": [
       "               txId             F1            F2            F3            F4  \\\n",
       "count  2.037690e+05  203769.000000  2.037690e+05  2.037690e+05  2.037690e+05   \n",
       "mean   1.711310e+08      23.843961  2.231681e-17 -7.531922e-18  2.231681e-17   \n",
       "std    1.104655e+08      15.172170  1.000002e+00  1.000002e+00  1.000002e+00   \n",
       "min    1.076000e+03       1.000000 -1.729826e-01 -2.105526e-01 -1.756361e+00   \n",
       "25%    8.433452e+07       9.000000 -1.725317e-01 -1.803266e-01 -1.201369e+00   \n",
       "50%    1.624375e+08      23.000000 -1.692045e-01 -1.328975e-01  4.636092e-01   \n",
       "75%    2.454798e+08      38.000000 -1.318553e-01 -5.524241e-02  1.018602e+00   \n",
       "max    4.032446e+08      49.000000  7.168197e+01  7.359505e+01  2.683580e+00   \n",
       "\n",
       "                 F5            F6            F7            F8            F9  \\\n",
       "count  2.037690e+05  2.037690e+05  2.037690e+05  2.037690e+05  2.037690e+05   \n",
       "mean   6.213836e-17  7.570279e-17  5.802370e-17  3.068561e-17  3.570689e-17   \n",
       "std    1.000002e+00  1.000002e+00  1.000002e+00  1.000002e+00  1.000002e+00   \n",
       "min   -1.219696e-01 -6.372457e-02 -1.130020e-01 -6.158379e-02 -1.636459e-01   \n",
       "25%   -1.219696e-01 -4.387455e-02 -1.130020e-01 -6.158379e-02 -1.635168e-01   \n",
       "50%   -1.219696e-01 -4.387455e-02 -1.130020e-01 -6.158379e-02 -1.620440e-01   \n",
       "75%   -1.219696e-01 -4.387455e-02 -1.130020e-01 -6.158379e-02 -1.355932e-01   \n",
       "max    4.902760e+01  2.600907e+02  5.456518e+01  1.134409e+02  7.335457e+01   \n",
       "\n",
       "       ...          F157          F158          F159          F160  \\\n",
       "count  ...  2.037690e+05  2.037690e+05  2.037690e+05  2.037690e+05   \n",
       "mean   ... -2.956977e-17  1.657023e-16 -7.225066e-17  7.476130e-17   \n",
       "std    ...  1.000002e+00  1.000002e+00  1.000002e+00  1.000002e+00   \n",
       "min    ... -5.770994e-01 -6.262286e-01 -9.790738e-01 -9.785560e-01   \n",
       "25%    ... -5.696264e-01 -5.946915e-01 -9.790738e-01 -9.785560e-01   \n",
       "50%    ... -4.799511e-01 -4.559278e-01  2.411283e-01  2.414064e-01   \n",
       "75%    ...  1.552495e-01  1.212026e-01  1.305594e+00  1.398764e+00   \n",
       "max    ...  7.862953e+00  7.914041e+00  1.461330e+00  1.461369e+00   \n",
       "\n",
       "               F161          F162          F163          F164          F165  \\\n",
       "count  2.037690e+05  2.037690e+05  2.037690e+05  2.037690e+05  2.037690e+05   \n",
       "mean  -4.658634e-17  2.231681e-18  5.021282e-17  1.562177e-17  4.072817e-17   \n",
       "std    1.000002e+00  1.000002e+00  1.000002e+00  1.000002e+00  1.000002e+00   \n",
       "min   -2.160569e-01 -1.259391e-01 -1.311553e-01 -2.698175e-01 -1.760926e+00   \n",
       "25%   -9.888874e-02 -8.749016e-02 -1.311553e-01 -1.405971e-01 -1.206134e-01   \n",
       "50%    1.827940e-02 -8.749016e-02 -1.311553e-01 -9.752359e-02 -1.206134e-01   \n",
       "75%    1.827940e-02 -8.749016e-02 -8.467423e-02 -9.752359e-02  1.520067e-01   \n",
       "max    1.170692e+02  2.518490e+02  2.387835e+02  1.057340e+02  1.519700e+00   \n",
       "\n",
       "               F166  \n",
       "count  2.037690e+05  \n",
       "mean   5.913954e-17  \n",
       "std    1.000002e+00  \n",
       "min   -1.760984e+00  \n",
       "25%   -1.197925e-01  \n",
       "50%   -1.197925e-01  \n",
       "75%    1.199710e-01  \n",
       "max    1.521399e+00  \n",
       "\n",
       "[8 rows x 167 columns]"
      ]
     },
     "execution_count": 8,
     "metadata": {},
     "output_type": "execute_result"
    }
   ],
   "source": [
    "features.describe()"
   ]
  },
  {
   "cell_type": "markdown",
   "metadata": {},
   "source": [
    "# Preprocessing the features"
   ]
  },
  {
   "cell_type": "code",
   "execution_count": 9,
   "metadata": {},
   "outputs": [],
   "source": [
    "from functools import partial, reduce\n",
    "from typing import Callable\n",
    "\n",
    "import numpy as np\n",
    "import torch\n",
    "import torch.nn.functional as F\n",
    "from sklearn import metrics\n",
    "from sklearn.preprocessing import LabelEncoder\n",
    "from torch_geometric.data import Data\n",
    "from torch_geometric.nn import GCNConv\n",
    "\n",
    "\n",
    "def apply_functions(df: pd.DataFrame, functions: list[Callable]) -> pd.DataFrame:\n",
    "    \"\"\"applies a list of functions to a dataframe\"\"\"\n",
    "    return reduce(lambda df, func: func(df), functions, df)"
   ]
  },
  {
   "cell_type": "code",
   "execution_count": 10,
   "metadata": {},
   "outputs": [
    {
     "data": {
      "text/plain": [
       "tensor([[     0,      2,      4,  ..., 201921, 201480, 201954],\n",
       "        [     1,      3,      5,  ..., 202042, 201368, 201756]])"
      ]
     },
     "execution_count": 10,
     "metadata": {},
     "output_type": "execute_result"
    }
   ],
   "source": [
    "transaction_mapper = {tx_id: idx for idx, tx_id in enumerate(features[\"txId\"].unique())}\n",
    "\n",
    "def filter_edges(edges: pd.DataFrame, transaction_mapper: dict) -> pd.DataFrame:\n",
    "    \"\"\"removes all edges that do not have features in the features dataframe\"\"\"\n",
    "\n",
    "    edge_ids = set(transaction_mapper.keys())\n",
    "    left_condition = edges.txId1.isin(edge_ids)\n",
    "    right_condition = edges.txId2.isin(edge_ids)\n",
    "    return edges[left_condition & right_condition]\n",
    "\n",
    "\n",
    "def add_edge_ids(edges: pd.DataFrame, transaction_mapper: dict) -> pd.DataFrame:\n",
    "    \"\"\"adds edge ids to the edges dataframe\"\"\"\n",
    "    edges[\"left_id\"] = edges.txId1.map(transaction_mapper)\n",
    "    edges[\"right_id\"] = edges.txId2.map(transaction_mapper)\n",
    "\n",
    "    return edges\n",
    "\n",
    "\n",
    "def convert_to_tensor(edges: pd.DataFrame) -> torch.Tensor:\n",
    "    \"\"\"converts the edges dataframe to a tensor\"\"\"\n",
    "    return torch.tensor(edges[[\"left_id\", \"right_id\"]].values.T, dtype=torch.long)\n",
    "\n",
    "\n",
    "edge_index = apply_functions(\n",
    "    df=edges,\n",
    "    functions=[\n",
    "        partial(filter_edges, transaction_mapper=transaction_mapper),\n",
    "        partial(add_edge_ids, transaction_mapper=transaction_mapper),\n",
    "        convert_to_tensor,\n",
    "    ]\n",
    ")\n",
    "\n",
    "edge_index"
   ]
  },
  {
   "cell_type": "code",
   "execution_count": 11,
   "metadata": {},
   "outputs": [
    {
     "name": "stdout",
     "output_type": "stream",
     "text": [
      "torch.Size([203769, 166])\n"
     ]
    },
    {
     "data": {
      "text/plain": [
       "tensor([[ 1.0000e+00, -1.7147e-01, -1.8467e-01,  ..., -9.7524e-02,\n",
       "         -1.2061e-01, -1.1979e-01],\n",
       "        [ 1.0000e+00, -1.7148e-01, -1.8467e-01,  ..., -9.7524e-02,\n",
       "         -1.2061e-01, -1.1979e-01],\n",
       "        [ 1.0000e+00, -1.7211e-01, -1.8467e-01,  ..., -1.8367e-01,\n",
       "         -1.2061e-01, -1.1979e-01],\n",
       "        ...,\n",
       "        [ 4.9000e+01, -1.7201e-01, -7.8182e-02,  ..., -9.7524e-02,\n",
       "         -1.2061e-01, -1.1979e-01],\n",
       "        [ 4.9000e+01, -1.7284e-01, -1.7662e-01,  ..., -1.4060e-01,\n",
       "          1.5197e+00,  1.5214e+00],\n",
       "        [ 4.9000e+01, -1.2037e-02, -1.3228e-01,  ..., -1.4060e-01,\n",
       "          1.5197e+00,  1.5214e+00]])"
      ]
     },
     "execution_count": 11,
     "metadata": {},
     "output_type": "execute_result"
    }
   ],
   "source": [
    "def get_feature_tensor(features: pd.DataFrame) -> torch.Tensor:\n",
    "    \"\"\"converts the features dataframe to a tensor\"\"\"\n",
    "    features = features.drop(columns=[\"txId\"])\n",
    "    return torch.tensor(features.values, dtype=torch.float)\n",
    "\n",
    "\n",
    "feature_tensor = get_feature_tensor(features)\n",
    "print(feature_tensor.shape)\n",
    "feature_tensor"
   ]
  },
  {
   "cell_type": "code",
   "execution_count": 12,
   "metadata": {},
   "outputs": [
    {
     "name": "stdout",
     "output_type": "stream",
     "text": [
      "torch.Size([203769])\n"
     ]
    },
    {
     "data": {
      "text/plain": [
       "tensor([0, 0, 0,  ..., 2, 0, 0])"
      ]
     },
     "execution_count": 12,
     "metadata": {},
     "output_type": "execute_result"
    }
   ],
   "source": [
    "def get_label_tensor(labels: pd.DataFrame) -> torch.Tensor:\n",
    "    \"\"\"converts the labels dataframe to a tensor\"\"\"\n",
    "    label_encoder = LabelEncoder()\n",
    "    class_labels = label_encoder.fit_transform(labels[\"class\"])\n",
    "    return torch.tensor(class_labels, dtype=torch.long)\n",
    "\n",
    "node_labels = get_label_tensor(labels)\n",
    "print(node_labels.shape)\n",
    "node_labels"
   ]
  },
  {
   "cell_type": "code",
   "execution_count": 13,
   "metadata": {},
   "outputs": [],
   "source": [
    "def combine_data(edge_index: torch.Tensor, feature_tensor: torch.Tensor, node_labels: torch.Tensor) -> Data:\n",
    "    \"\"\"combines the edge_index, feature_tensor, and node_labels into a single Data object\"\"\"\n",
    "    return Data(edge_index=edge_index, x=feature_tensor, y=node_labels)\n",
    "\n",
    "data = combine_data(edge_index, feature_tensor, node_labels)"
   ]
  },
  {
   "cell_type": "code",
   "execution_count": 14,
   "metadata": {},
   "outputs": [],
   "source": [
    "known_mask = (data.y == 1) | (data.y == 2)\n",
    "unknown_mask = data.y == 0"
   ]
  },
  {
   "cell_type": "code",
   "execution_count": 15,
   "metadata": {},
   "outputs": [
    {
     "name": "stdout",
     "output_type": "stream",
     "text": [
      "Number of observations per split\n",
      "    Training   :     37,251 (80.00 %)\n",
      "    Validation :      4,656 (10.00 %)\n",
      "    Testing    :      4,657 (10.00 %)\n",
      "\n"
     ]
    }
   ],
   "source": [
    "number_known_nodes = known_mask.sum().item()\n",
    "permutation = torch.randperm(number_known_nodes)\n",
    "train_size = int(0.8 * number_known_nodes)\n",
    "val_size = int(0.1 * number_known_nodes)\n",
    "test_size = number_known_nodes - train_size - val_size\n",
    "\n",
    "total = np.sum([train_size, val_size, test_size])\n",
    "print(\n",
    "    f\"\"\"Number of observations per split\n",
    "    Training   : {train_size:10,} ({100*train_size/total:0.2f} %)\n",
    "    Validation : {val_size:10,} ({100*val_size/total:0.2f} %)\n",
    "    Testing    : {test_size:10,} ({100*test_size/total:0.2f} %)\n",
    "\"\"\"\n",
    ")"
   ]
  },
  {
   "cell_type": "code",
   "execution_count": 16,
   "metadata": {},
   "outputs": [],
   "source": [
    "def set_training_masks(data: Data, train_size: int, val_size: int, permutation: torch.Tensor) -> Data:\n",
    "    \"\"\"\n",
    "    sets the training, validation, and testing masks\n",
    "\n",
    "    Args:\n",
    "        data (Data): the dataset\n",
    "        train_size (int): the number of training nodes\n",
    "        val_size (int): the number of validation nodes\n",
    "        permutation (torch.Tensor): the permutation of nodes\n",
    "\n",
    "    Returns:\n",
    "        Data: the updated dataset with the training, validation, and testing masks set\n",
    "    \"\"\"\n",
    "\n",
    "    train_mask = torch.zeros(data.num_nodes, dtype=torch.bool)\n",
    "    train_mask[permutation[:train_size]] = True\n",
    "    val_mask = torch.zeros(data.num_nodes, dtype=torch.bool)\n",
    "    val_mask[permutation[train_size:train_size + val_size]] = True\n",
    "    test_mask = torch.zeros(data.num_nodes, dtype=torch.bool)\n",
    "    test_mask[permutation[train_size + val_size:]] = True\n",
    "\n",
    "    data.train_mask = train_mask\n",
    "    data.val_mask = val_mask\n",
    "    data.test_mask = test_mask\n",
    "\n",
    "    return data\n",
    "\n",
    "data = set_training_masks(data, train_size, val_size, permutation)"
   ]
  },
  {
   "cell_type": "markdown",
   "metadata": {},
   "source": [
    "Let's check some statistincs about train, test and validation sets"
   ]
  },
  {
   "cell_type": "code",
   "execution_count": 17,
   "metadata": {},
   "outputs": [
    {
     "data": {
      "text/html": [
       "<div>\n",
       "<style scoped>\n",
       "    .dataframe tbody tr th:only-of-type {\n",
       "        vertical-align: middle;\n",
       "    }\n",
       "\n",
       "    .dataframe tbody tr th {\n",
       "        vertical-align: top;\n",
       "    }\n",
       "\n",
       "    .dataframe thead th {\n",
       "        text-align: right;\n",
       "    }\n",
       "</style>\n",
       "<table border=\"1\" class=\"dataframe\">\n",
       "  <thead>\n",
       "    <tr style=\"text-align: right;\">\n",
       "      <th></th>\n",
       "      <th>Set</th>\n",
       "      <th>Total Count</th>\n",
       "      <th>Licit</th>\n",
       "      <th>Licit (%)</th>\n",
       "      <th>Illicit</th>\n",
       "      <th>Illicit (%)</th>\n",
       "    </tr>\n",
       "  </thead>\n",
       "  <tbody>\n",
       "    <tr>\n",
       "      <th>0</th>\n",
       "      <td>Training</td>\n",
       "      <td>37036</td>\n",
       "      <td>8358</td>\n",
       "      <td>22.567232</td>\n",
       "      <td>28678</td>\n",
       "      <td>77.432768</td>\n",
       "    </tr>\n",
       "    <tr>\n",
       "      <th>1</th>\n",
       "      <td>Validation</td>\n",
       "      <td>4625</td>\n",
       "      <td>1073</td>\n",
       "      <td>23.200000</td>\n",
       "      <td>3552</td>\n",
       "      <td>76.800000</td>\n",
       "    </tr>\n",
       "    <tr>\n",
       "      <th>2</th>\n",
       "      <td>Testing</td>\n",
       "      <td>4633</td>\n",
       "      <td>1057</td>\n",
       "      <td>22.814591</td>\n",
       "      <td>3576</td>\n",
       "      <td>77.185409</td>\n",
       "    </tr>\n",
       "  </tbody>\n",
       "</table>\n",
       "</div>"
      ],
      "text/plain": [
       "          Set  Total Count  Licit  Licit (%)  Illicit  Illicit (%)\n",
       "0    Training        37036   8358  22.567232    28678    77.432768\n",
       "1  Validation         4625   1073  23.200000     3552    76.800000\n",
       "2     Testing         4633   1057  22.814591     3576    77.185409"
      ]
     },
     "execution_count": 17,
     "metadata": {},
     "output_type": "execute_result"
    }
   ],
   "source": [
    "\n",
    "train_licit, train_illicit = (data.y[data.train_mask] == 1).sum().item(), (data.y[data.train_mask] == 0).sum().item()\n",
    "val_licit, val_illicit = (data.y[data.val_mask] == 1).sum().item(), (data.y[data.val_mask] == 0).sum().item()\n",
    "test_licit, test_illicit = (data.y[data.test_mask] == 1).sum().item(), (data.y[data.test_mask] == 0).sum().item()\n",
    "\n",
    "# Calculate total counts.\n",
    "train_total = train_licit + train_illicit\n",
    "val_total = val_licit + val_illicit\n",
    "test_total = test_licit + test_illicit\n",
    "\n",
    "# Calculate percentages.\n",
    "train_licit_pct = (train_licit / train_total) * 100\n",
    "train_illicit_pct = (train_illicit / train_total) * 100\n",
    "val_licit_pct = (val_licit / val_total) * 100\n",
    "val_illicit_pct = (val_illicit / val_total) * 100\n",
    "test_licit_pct = (test_licit / test_total) * 100\n",
    "test_illicit_pct = (test_illicit / test_total) * 100\n",
    "\n",
    "pd.DataFrame({\n",
    "    'Set': ['Training', 'Validation', 'Testing'],\n",
    "    'Total Count': [train_total, val_total, test_total],\n",
    "    'Licit': [train_licit, val_licit, test_licit],\n",
    "    'Licit (%)': [train_licit_pct, val_licit_pct, test_licit_pct],\n",
    "    'Illicit': [train_illicit, val_illicit, test_illicit],\n",
    "    'Illicit (%)': [train_illicit_pct, val_illicit_pct, test_illicit_pct]\n",
    "})\n"
   ]
  },
  {
   "cell_type": "code",
   "execution_count": 18,
   "metadata": {},
   "outputs": [],
   "source": [
    "class GCNModel(torch.nn.Module):\n",
    "    \"\"\"Graph Convolutional Network model\"\"\"\n",
    "\n",
    "    def __init__(self, hidden_dim, num_features, num_classes):\n",
    "        super().__init__()\n",
    "        self.conv1 = GCNConv(num_features, hidden_dim)\n",
    "        self.conv2 = GCNConv(hidden_dim, num_classes)\n",
    "\n",
    "    def forward(self, data):\n",
    "        x, edge_index = data.x, data.edge_index\n",
    "        x = F.relu(self.conv1(x, edge_index))\n",
    "        x = F.dropout(x, training=self.training)\n",
    "        x = self.conv2(x, edge_index)\n",
    "        return F.log_softmax(x, dim=1)\n"
   ]
  },
  {
   "cell_type": "markdown",
   "metadata": {},
   "source": []
  },
  {
   "cell_type": "code",
   "execution_count": 27,
   "metadata": {},
   "outputs": [],
   "source": [
    "DEVICE_MAPPING = {\n",
    "    \"gpu\": torch.cuda,\n",
    "    \"mps\": torch.backends.mps,\n",
    "}\n",
    "\n",
    "HIDDEN_DIM = 64\n",
    "def get_torch_device() -> torch.device:\n",
    "    \"\"\"gets the best performant device (CPU or MPS)\"\"\"\n",
    "    for device_name, device in DEVICE_MAPPING.items():\n",
    "        if device.is_available():\n",
    "            return torch.device(device_name)\n",
    "\n",
    "    return torch.device(\"cpu\")\n",
    "\n",
    "\n",
    "device = get_torch_device()\n",
    "data = data.to(device)\n",
    "model = GCNModel(hidden_dim=HIDDEN_DIM, num_features=data.x.shape[1], num_classes=2).to(\n",
    "    device\n",
    ")"
   ]
  },
  {
   "cell_type": "code",
   "execution_count": 61,
   "metadata": {},
   "outputs": [],
   "source": [
    "import warnings\n",
    "from sklearn.exceptions import UndefinedMetricWarning\n",
    "warnings.filterwarnings(\"ignore\", category=UndefinedMetricWarning)\n",
    "from tqdm import tqdm\n",
    "\n",
    "def train_gnn(num_epochs: int, model: torch.nn.Module, data: Data, optimizer: torch.optim.Optimizer) -> dict:\n",
    "    \"\"\"trains the GNN model\"\"\"\n",
    "    train_losses = []\n",
    "    train_accuracies = []\n",
    "    train_precisions = []\n",
    "    train_recals = []\n",
    "    train_f1_scores = []\n",
    "\n",
    "    val_losses = []\n",
    "    val_accuracies = []\n",
    "    val_precisions = []\n",
    "    val_recals = []\n",
    "    val_f1_scores = []\n",
    "\n",
    "    for epoch in tqdm(range(1, num_epochs + 1)):\n",
    "        model.train()\n",
    "        optimizer.zero_grad()\n",
    "        out = model(data)\n",
    "        loss = F.nll_loss(out[data.train_mask], data.y[data.train_mask].long())\n",
    "        loss.backward()\n",
    "        optimizer.step()\n",
    "\n",
    "        train_loss = loss.item()\n",
    "\n",
    "        train_predictions = out[data.train_mask].argmax(dim=1).cpu().detach().numpy()\n",
    "        train_true = data.y[data.train_mask].cpu().detach().numpy()\n",
    "\n",
    "        train_accuracy = metrics.accuracy_score(train_true, train_predictions)\n",
    "        train_precision = metrics.precision_score(\n",
    "            train_true, train_predictions, average=\"weighted\"\n",
    "        ).item()\n",
    "        train_recall = metrics.recall_score(\n",
    "            train_true, train_predictions, average=\"weighted\"\n",
    "        ).item()\n",
    "        train_f1_score = metrics.f1_score(\n",
    "            train_true, train_predictions, average=\"weighted\"\n",
    "        ).item()\n",
    "\n",
    "        train_losses.append(train_loss)\n",
    "        train_accuracies.append(train_accuracy)\n",
    "        train_precisions.append(train_precision)\n",
    "        train_recals.append(train_recall)\n",
    "        train_f1_scores.append(train_f1_score)\n",
    "\n",
    "        model.eval()\n",
    "        with torch.no_grad():\n",
    "            out = model(data)\n",
    "            validation_predictions = out[data.val_mask].argmax(dim=1).cpu().detach().numpy()\n",
    "            validation_true = data.y[data.val_mask].cpu().detach().numpy()\n",
    "\n",
    "            val_loss = F.nll_loss(out[data.val_mask], data.y[data.val_mask]).item()\n",
    "            val_accuracy = metrics.accuracy_score(\n",
    "                validation_predictions, validation_true\n",
    "            )\n",
    "            val_precision = metrics.precision_score(\n",
    "                validation_predictions, validation_true, average=\"weighted\"\n",
    "            )\n",
    "            val_recall = metrics.recall_score(\n",
    "                validation_predictions, validation_true, average=\"weighted\"\n",
    "            )\n",
    "            val_f1_score = metrics.f1_score(\n",
    "                validation_predictions, validation_true, average=\"weighted\"\n",
    "            )\n",
    "\n",
    "            val_losses.append(val_loss)\n",
    "            val_accuracies.append(val_accuracy)\n",
    "            val_precisions.append(val_precision)\n",
    "            val_recals.append(val_recall)\n",
    "            val_f1_scores.append(val_f1_score)\n",
    "\n",
    "        if epoch % 10 == 0:\n",
    "            print(\n",
    "                f\"Epoch: {epoch},\\n\\tTrain Loss: {train_loss:.4f}, Train Accuracy: {train_accuracy:.4f}, Train Precision: {train_precision:.4f}, Train Recall: {train_recall:.4f}, Train F1 Score: {train_f1_score:.4f}\\n\\tVal Loss: {val_loss:.4f}, Val Accuracy: {val_accuracy:.4f}, Val Precision: {val_precision:.4f}, Val Recall: {val_recall:.4f}, Val F1 Score: {val_f1_score:.4f}\"\n",
    "            )\n",
    "\n",
    "    return {\n",
    "        \"model\": model,\n",
    "        \"train\": {\n",
    "            \"losses\": train_losses,\n",
    "            \"accuracies\": train_accuracies,\n",
    "            \"precisions\": train_precisions,\n",
    "            \"recals\": train_recals,\n",
    "            \"f1_scores\": train_f1_scores\n",
    "        },\n",
    "        \"val\": {\n",
    "            \"losses\": val_losses,\n",
    "            \"accuracies\": val_accuracies,\n",
    "            \"precisions\": val_precisions,\n",
    "            \"recals\": val_recals,\n",
    "            \"f1_scores\": val_f1_scores,\n",
    "        }\n",
    "    }"
   ]
  },
  {
   "cell_type": "code",
   "execution_count": 62,
   "metadata": {},
   "outputs": [
    {
     "name": "stderr",
     "output_type": "stream",
     "text": [
      " 11%|█         | 11/100 [00:01<00:11,  7.99it/s]"
     ]
    },
    {
     "name": "stdout",
     "output_type": "stream",
     "text": [
      "Epoch: 10,\n",
      "\tTrain Loss: 0.3554, Train Accuracy: 0.8725, Train Precision: 0.8626, Train Recall: 0.8725, Train F1 Score: 0.8653\n",
      "\tVal Loss: 0.3508, Val Accuracy: 0.8709, Val Precision: 0.8905, Val Recall: 0.8709, Val F1 Score: 0.8786\n"
     ]
    },
    {
     "name": "stderr",
     "output_type": "stream",
     "text": [
      " 21%|██        | 21/100 [00:02<00:09,  8.05it/s]"
     ]
    },
    {
     "name": "stdout",
     "output_type": "stream",
     "text": [
      "Epoch: 20,\n",
      "\tTrain Loss: 0.3254, Train Accuracy: 0.8714, Train Precision: 0.8621, Train Recall: 0.8714, Train F1 Score: 0.8607\n",
      "\tVal Loss: 0.3281, Val Accuracy: 0.8716, Val Precision: 0.8987, Val Recall: 0.8716, Val F1 Score: 0.8812\n"
     ]
    },
    {
     "name": "stderr",
     "output_type": "stream",
     "text": [
      " 31%|███       | 31/100 [00:03<00:08,  8.36it/s]"
     ]
    },
    {
     "name": "stdout",
     "output_type": "stream",
     "text": [
      "Epoch: 30,\n",
      "\tTrain Loss: 0.3048, Train Accuracy: 0.8790, Train Precision: 0.8699, Train Recall: 0.8790, Train F1 Score: 0.8704\n",
      "\tVal Loss: 0.3125, Val Accuracy: 0.8703, Val Precision: 0.8971, Val Recall: 0.8703, Val F1 Score: 0.8799\n"
     ]
    },
    {
     "name": "stderr",
     "output_type": "stream",
     "text": [
      " 41%|████      | 41/100 [00:05<00:07,  8.32it/s]"
     ]
    },
    {
     "name": "stdout",
     "output_type": "stream",
     "text": [
      "Epoch: 40,\n",
      "\tTrain Loss: 0.2914, Train Accuracy: 0.8828, Train Precision: 0.8742, Train Recall: 0.8828, Train F1 Score: 0.8744\n",
      "\tVal Loss: 0.3059, Val Accuracy: 0.8733, Val Precision: 0.8990, Val Recall: 0.8733, Val F1 Score: 0.8825\n"
     ]
    },
    {
     "name": "stderr",
     "output_type": "stream",
     "text": [
      " 51%|█████     | 51/100 [00:06<00:05,  8.41it/s]"
     ]
    },
    {
     "name": "stdout",
     "output_type": "stream",
     "text": [
      "Epoch: 50,\n",
      "\tTrain Loss: 0.2874, Train Accuracy: 0.8821, Train Precision: 0.8737, Train Recall: 0.8821, Train F1 Score: 0.8733\n",
      "\tVal Loss: 0.3010, Val Accuracy: 0.8759, Val Precision: 0.9009, Val Recall: 0.8759, Val F1 Score: 0.8848\n"
     ]
    },
    {
     "name": "stderr",
     "output_type": "stream",
     "text": [
      " 61%|██████    | 61/100 [00:07<00:04,  8.28it/s]"
     ]
    },
    {
     "name": "stdout",
     "output_type": "stream",
     "text": [
      "Epoch: 60,\n",
      "\tTrain Loss: 0.2804, Train Accuracy: 0.8829, Train Precision: 0.8744, Train Recall: 0.8829, Train F1 Score: 0.8745\n",
      "\tVal Loss: 0.2992, Val Accuracy: 0.8750, Val Precision: 0.9004, Val Recall: 0.8750, Val F1 Score: 0.8841\n"
     ]
    },
    {
     "name": "stderr",
     "output_type": "stream",
     "text": [
      " 71%|███████   | 71/100 [00:08<00:03,  7.95it/s]"
     ]
    },
    {
     "name": "stdout",
     "output_type": "stream",
     "text": [
      "Epoch: 70,\n",
      "\tTrain Loss: 0.2769, Train Accuracy: 0.8856, Train Precision: 0.8772, Train Recall: 0.8856, Train F1 Score: 0.8777\n",
      "\tVal Loss: 0.2953, Val Accuracy: 0.8767, Val Precision: 0.8988, Val Recall: 0.8767, Val F1 Score: 0.8849\n"
     ]
    },
    {
     "name": "stderr",
     "output_type": "stream",
     "text": [
      " 81%|████████  | 81/100 [00:09<00:02,  7.97it/s]"
     ]
    },
    {
     "name": "stdout",
     "output_type": "stream",
     "text": [
      "Epoch: 80,\n",
      "\tTrain Loss: 0.2755, Train Accuracy: 0.8838, Train Precision: 0.8757, Train Recall: 0.8838, Train F1 Score: 0.8750\n",
      "\tVal Loss: 0.2959, Val Accuracy: 0.8776, Val Precision: 0.9018, Val Recall: 0.8776, Val F1 Score: 0.8863\n"
     ]
    },
    {
     "name": "stderr",
     "output_type": "stream",
     "text": [
      " 91%|█████████ | 91/100 [00:11<00:01,  8.18it/s]"
     ]
    },
    {
     "name": "stdout",
     "output_type": "stream",
     "text": [
      "Epoch: 90,\n",
      "\tTrain Loss: 0.2709, Train Accuracy: 0.8873, Train Precision: 0.8790, Train Recall: 0.8873, Train F1 Score: 0.8794\n",
      "\tVal Loss: 0.2944, Val Accuracy: 0.8774, Val Precision: 0.9022, Val Recall: 0.8774, Val F1 Score: 0.8862\n"
     ]
    },
    {
     "name": "stderr",
     "output_type": "stream",
     "text": [
      "100%|██████████| 100/100 [00:12<00:00,  8.10it/s]"
     ]
    },
    {
     "name": "stdout",
     "output_type": "stream",
     "text": [
      "Epoch: 100,\n",
      "\tTrain Loss: 0.2695, Train Accuracy: 0.8884, Train Precision: 0.8802, Train Recall: 0.8884, Train F1 Score: 0.8808\n",
      "\tVal Loss: 0.2935, Val Accuracy: 0.8769, Val Precision: 0.9002, Val Recall: 0.8769, Val F1 Score: 0.8854\n"
     ]
    },
    {
     "name": "stderr",
     "output_type": "stream",
     "text": [
      "\n"
     ]
    }
   ],
   "source": [
    "results = train_gnn(num_epochs=100, model=model, data=data, optimizer=torch.optim.Adam(model.parameters(), lr=0.03))"
   ]
  },
  {
   "cell_type": "code",
   "execution_count": null,
   "metadata": {},
   "outputs": [],
   "source": []
  }
 ],
 "metadata": {
  "kernelspec": {
   "display_name": "gnn_test",
   "language": "python",
   "name": "python3"
  },
  "language_info": {
   "codemirror_mode": {
    "name": "ipython",
    "version": 3
   },
   "file_extension": ".py",
   "mimetype": "text/x-python",
   "name": "python",
   "nbconvert_exporter": "python",
   "pygments_lexer": "ipython3",
   "version": "3.12.7"
  }
 },
 "nbformat": 4,
 "nbformat_minor": 2
}
